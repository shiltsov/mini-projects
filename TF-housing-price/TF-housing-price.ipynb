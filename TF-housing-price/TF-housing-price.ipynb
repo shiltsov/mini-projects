{
 "cells": [
  {
   "cell_type": "markdown",
   "metadata": {},
   "source": [
    "## Housing price\n",
    "\n",
    "https://storage.googleapis.com/ml_universities/california_housing_train.csv\n",
    "\n",
    "что хочу:\n",
    "    - импортировать в пандас, посмотреть что как, очистить, разбить на трейн и тест\n",
    "    - построить TF датасет, поработать с фичами\n",
    "    - построить и обучить денс-нн, учить с коллбеками, с сохранением слоев и с валидацией\n",
    "    - на коллбеках сохраняться"
   ]
  },
  {
   "cell_type": "code",
   "execution_count": 1,
   "metadata": {},
   "outputs": [],
   "source": [
    "import pandas as pd\n",
    "import numpy as np\n",
    "import tensorflow as tf\n",
    "from sklearn.model_selection import train_test_split\n",
    "from matplotlib import pyplot as plt\n",
    "\n",
    "%matplotlib inline\n",
    "%load_ext tensorboard"
   ]
  },
  {
   "cell_type": "code",
   "execution_count": 2,
   "metadata": {},
   "outputs": [],
   "source": [
    "df = pd.read_csv(\"https://storage.googleapis.com/ml_universities/california_housing_train.csv\", sep=\",\")"
   ]
  },
  {
   "cell_type": "code",
   "execution_count": 3,
   "metadata": {},
   "outputs": [
    {
     "data": {
      "text/html": [
       "<div>\n",
       "<style scoped>\n",
       "    .dataframe tbody tr th:only-of-type {\n",
       "        vertical-align: middle;\n",
       "    }\n",
       "\n",
       "    .dataframe tbody tr th {\n",
       "        vertical-align: top;\n",
       "    }\n",
       "\n",
       "    .dataframe thead th {\n",
       "        text-align: right;\n",
       "    }\n",
       "</style>\n",
       "<table border=\"1\" class=\"dataframe\">\n",
       "  <thead>\n",
       "    <tr style=\"text-align: right;\">\n",
       "      <th></th>\n",
       "      <th>longitude</th>\n",
       "      <th>latitude</th>\n",
       "      <th>housing_median_age</th>\n",
       "      <th>total_rooms</th>\n",
       "      <th>total_bedrooms</th>\n",
       "      <th>population</th>\n",
       "      <th>households</th>\n",
       "      <th>median_income</th>\n",
       "      <th>median_house_value</th>\n",
       "    </tr>\n",
       "  </thead>\n",
       "  <tbody>\n",
       "    <tr>\n",
       "      <th>0</th>\n",
       "      <td>-114.31</td>\n",
       "      <td>34.19</td>\n",
       "      <td>15.0</td>\n",
       "      <td>5612.0</td>\n",
       "      <td>1283.0</td>\n",
       "      <td>1015.0</td>\n",
       "      <td>472.0</td>\n",
       "      <td>1.4936</td>\n",
       "      <td>66900.0</td>\n",
       "    </tr>\n",
       "    <tr>\n",
       "      <th>1</th>\n",
       "      <td>-114.47</td>\n",
       "      <td>34.40</td>\n",
       "      <td>19.0</td>\n",
       "      <td>7650.0</td>\n",
       "      <td>1901.0</td>\n",
       "      <td>1129.0</td>\n",
       "      <td>463.0</td>\n",
       "      <td>1.8200</td>\n",
       "      <td>80100.0</td>\n",
       "    </tr>\n",
       "    <tr>\n",
       "      <th>2</th>\n",
       "      <td>-114.56</td>\n",
       "      <td>33.69</td>\n",
       "      <td>17.0</td>\n",
       "      <td>720.0</td>\n",
       "      <td>174.0</td>\n",
       "      <td>333.0</td>\n",
       "      <td>117.0</td>\n",
       "      <td>1.6509</td>\n",
       "      <td>85700.0</td>\n",
       "    </tr>\n",
       "    <tr>\n",
       "      <th>3</th>\n",
       "      <td>-114.57</td>\n",
       "      <td>33.64</td>\n",
       "      <td>14.0</td>\n",
       "      <td>1501.0</td>\n",
       "      <td>337.0</td>\n",
       "      <td>515.0</td>\n",
       "      <td>226.0</td>\n",
       "      <td>3.1917</td>\n",
       "      <td>73400.0</td>\n",
       "    </tr>\n",
       "    <tr>\n",
       "      <th>4</th>\n",
       "      <td>-114.57</td>\n",
       "      <td>33.57</td>\n",
       "      <td>20.0</td>\n",
       "      <td>1454.0</td>\n",
       "      <td>326.0</td>\n",
       "      <td>624.0</td>\n",
       "      <td>262.0</td>\n",
       "      <td>1.9250</td>\n",
       "      <td>65500.0</td>\n",
       "    </tr>\n",
       "  </tbody>\n",
       "</table>\n",
       "</div>"
      ],
      "text/plain": [
       "   longitude  latitude  housing_median_age  total_rooms  total_bedrooms  \\\n",
       "0    -114.31     34.19                15.0       5612.0          1283.0   \n",
       "1    -114.47     34.40                19.0       7650.0          1901.0   \n",
       "2    -114.56     33.69                17.0        720.0           174.0   \n",
       "3    -114.57     33.64                14.0       1501.0           337.0   \n",
       "4    -114.57     33.57                20.0       1454.0           326.0   \n",
       "\n",
       "   population  households  median_income  median_house_value  \n",
       "0      1015.0       472.0         1.4936             66900.0  \n",
       "1      1129.0       463.0         1.8200             80100.0  \n",
       "2       333.0       117.0         1.6509             85700.0  \n",
       "3       515.0       226.0         3.1917             73400.0  \n",
       "4       624.0       262.0         1.9250             65500.0  "
      ]
     },
     "execution_count": 3,
     "metadata": {},
     "output_type": "execute_result"
    }
   ],
   "source": [
    "df.head()"
   ]
  },
  {
   "cell_type": "code",
   "execution_count": 4,
   "metadata": {},
   "outputs": [],
   "source": [
    "# разбиваем на трейн и валидацию\n",
    "df_train, df_test = train_test_split(df, train_size=0.8)"
   ]
  },
  {
   "cell_type": "code",
   "execution_count": null,
   "metadata": {},
   "outputs": [],
   "source": []
  },
  {
   "cell_type": "code",
   "execution_count": 5,
   "metadata": {},
   "outputs": [
    {
     "data": {
      "text/html": [
       "<div>\n",
       "<style scoped>\n",
       "    .dataframe tbody tr th:only-of-type {\n",
       "        vertical-align: middle;\n",
       "    }\n",
       "\n",
       "    .dataframe tbody tr th {\n",
       "        vertical-align: top;\n",
       "    }\n",
       "\n",
       "    .dataframe thead th {\n",
       "        text-align: right;\n",
       "    }\n",
       "</style>\n",
       "<table border=\"1\" class=\"dataframe\">\n",
       "  <thead>\n",
       "    <tr style=\"text-align: right;\">\n",
       "      <th></th>\n",
       "      <th>longitude</th>\n",
       "      <th>latitude</th>\n",
       "      <th>housing_median_age</th>\n",
       "      <th>total_rooms</th>\n",
       "      <th>total_bedrooms</th>\n",
       "      <th>population</th>\n",
       "      <th>households</th>\n",
       "      <th>median_income</th>\n",
       "      <th>median_house_value</th>\n",
       "    </tr>\n",
       "  </thead>\n",
       "  <tbody>\n",
       "    <tr>\n",
       "      <th>count</th>\n",
       "      <td>13600.000000</td>\n",
       "      <td>13600.000000</td>\n",
       "      <td>13600.000000</td>\n",
       "      <td>13600.000000</td>\n",
       "      <td>13600.000000</td>\n",
       "      <td>13600.000000</td>\n",
       "      <td>13600.000000</td>\n",
       "      <td>13600.000000</td>\n",
       "      <td>13600.000000</td>\n",
       "    </tr>\n",
       "    <tr>\n",
       "      <th>mean</th>\n",
       "      <td>-119.569421</td>\n",
       "      <td>35.629117</td>\n",
       "      <td>28.574118</td>\n",
       "      <td>2640.470221</td>\n",
       "      <td>538.320000</td>\n",
       "      <td>1429.469044</td>\n",
       "      <td>500.272206</td>\n",
       "      <td>3.887688</td>\n",
       "      <td>207351.995882</td>\n",
       "    </tr>\n",
       "    <tr>\n",
       "      <th>std</th>\n",
       "      <td>2.009109</td>\n",
       "      <td>2.140706</td>\n",
       "      <td>12.556721</td>\n",
       "      <td>2179.448642</td>\n",
       "      <td>419.338846</td>\n",
       "      <td>1144.163835</td>\n",
       "      <td>382.340709</td>\n",
       "      <td>1.903478</td>\n",
       "      <td>115891.866754</td>\n",
       "    </tr>\n",
       "    <tr>\n",
       "      <th>min</th>\n",
       "      <td>-124.350000</td>\n",
       "      <td>32.540000</td>\n",
       "      <td>1.000000</td>\n",
       "      <td>2.000000</td>\n",
       "      <td>2.000000</td>\n",
       "      <td>3.000000</td>\n",
       "      <td>2.000000</td>\n",
       "      <td>0.499900</td>\n",
       "      <td>14999.000000</td>\n",
       "    </tr>\n",
       "    <tr>\n",
       "      <th>25%</th>\n",
       "      <td>-121.800000</td>\n",
       "      <td>33.930000</td>\n",
       "      <td>18.000000</td>\n",
       "      <td>1461.000000</td>\n",
       "      <td>295.000000</td>\n",
       "      <td>787.000000</td>\n",
       "      <td>281.000000</td>\n",
       "      <td>2.569300</td>\n",
       "      <td>119475.000000</td>\n",
       "    </tr>\n",
       "    <tr>\n",
       "      <th>50%</th>\n",
       "      <td>-118.490000</td>\n",
       "      <td>34.250000</td>\n",
       "      <td>29.000000</td>\n",
       "      <td>2127.000000</td>\n",
       "      <td>433.000000</td>\n",
       "      <td>1164.000000</td>\n",
       "      <td>408.000000</td>\n",
       "      <td>3.547100</td>\n",
       "      <td>180800.000000</td>\n",
       "    </tr>\n",
       "    <tr>\n",
       "      <th>75%</th>\n",
       "      <td>-118.000000</td>\n",
       "      <td>37.710000</td>\n",
       "      <td>37.000000</td>\n",
       "      <td>3153.000000</td>\n",
       "      <td>648.000000</td>\n",
       "      <td>1722.000000</td>\n",
       "      <td>606.000000</td>\n",
       "      <td>4.782350</td>\n",
       "      <td>265300.000000</td>\n",
       "    </tr>\n",
       "    <tr>\n",
       "      <th>max</th>\n",
       "      <td>-114.310000</td>\n",
       "      <td>41.880000</td>\n",
       "      <td>52.000000</td>\n",
       "      <td>37937.000000</td>\n",
       "      <td>5471.000000</td>\n",
       "      <td>35682.000000</td>\n",
       "      <td>5189.000000</td>\n",
       "      <td>15.000100</td>\n",
       "      <td>500001.000000</td>\n",
       "    </tr>\n",
       "  </tbody>\n",
       "</table>\n",
       "</div>"
      ],
      "text/plain": [
       "          longitude      latitude  housing_median_age   total_rooms  \\\n",
       "count  13600.000000  13600.000000        13600.000000  13600.000000   \n",
       "mean    -119.569421     35.629117           28.574118   2640.470221   \n",
       "std        2.009109      2.140706           12.556721   2179.448642   \n",
       "min     -124.350000     32.540000            1.000000      2.000000   \n",
       "25%     -121.800000     33.930000           18.000000   1461.000000   \n",
       "50%     -118.490000     34.250000           29.000000   2127.000000   \n",
       "75%     -118.000000     37.710000           37.000000   3153.000000   \n",
       "max     -114.310000     41.880000           52.000000  37937.000000   \n",
       "\n",
       "       total_bedrooms    population    households  median_income  \\\n",
       "count    13600.000000  13600.000000  13600.000000   13600.000000   \n",
       "mean       538.320000   1429.469044    500.272206       3.887688   \n",
       "std        419.338846   1144.163835    382.340709       1.903478   \n",
       "min          2.000000      3.000000      2.000000       0.499900   \n",
       "25%        295.000000    787.000000    281.000000       2.569300   \n",
       "50%        433.000000   1164.000000    408.000000       3.547100   \n",
       "75%        648.000000   1722.000000    606.000000       4.782350   \n",
       "max       5471.000000  35682.000000   5189.000000      15.000100   \n",
       "\n",
       "       median_house_value  \n",
       "count        13600.000000  \n",
       "mean        207351.995882  \n",
       "std         115891.866754  \n",
       "min          14999.000000  \n",
       "25%         119475.000000  \n",
       "50%         180800.000000  \n",
       "75%         265300.000000  \n",
       "max         500001.000000  "
      ]
     },
     "execution_count": 5,
     "metadata": {},
     "output_type": "execute_result"
    }
   ],
   "source": [
    "df_train.describe()"
   ]
  },
  {
   "cell_type": "code",
   "execution_count": 6,
   "metadata": {},
   "outputs": [
    {
     "data": {
      "text/plain": [
       "(28.574117647058824,\n",
       " 12.556721192543456,\n",
       " 3.8876876029411735,\n",
       " 1.9034783629772813)"
      ]
     },
     "execution_count": 6,
     "metadata": {},
     "output_type": "execute_result"
    }
   ],
   "source": [
    "housing_median_age_mean = df_train['housing_median_age'].mean()\n",
    "housing_median_age_std =  df_train['housing_median_age'].std()\n",
    "\n",
    "median_income_mean = df_train['median_income'].mean()\n",
    "median_income_std = df_train['median_income'].std()\n",
    "\n",
    "# эти данные буду использовать для нормализации\n",
    "housing_median_age_mean, housing_median_age_std, median_income_mean, median_income_std"
   ]
  },
  {
   "cell_type": "code",
   "execution_count": 7,
   "metadata": {},
   "outputs": [],
   "source": [
    "# то, что предсказываем\n",
    "target_train = df_train.pop('median_house_value')\n",
    "target_test = df_test.pop('median_house_value')"
   ]
  },
  {
   "cell_type": "code",
   "execution_count": null,
   "metadata": {},
   "outputs": [],
   "source": []
  },
  {
   "cell_type": "code",
   "execution_count": null,
   "metadata": {},
   "outputs": [],
   "source": []
  },
  {
   "cell_type": "markdown",
   "metadata": {},
   "source": [
    "## Работа с фичами\n",
    "    \n",
    "    - хочу на лету создавать новые фичи - среднее число комнат на дом, среднее число жильцов на комнату\n",
    "    - longitude и latitude сначала делаем бакетами, потом делаем из них крест. Т.к у нас признаком являются не сами числа, а принадлежность к квадратику\n",
    "    - нормализовать все данными из датасета"
   ]
  },
  {
   "cell_type": "code",
   "execution_count": 8,
   "metadata": {},
   "outputs": [],
   "source": [
    "features = ['longitude', 'latitude', 'housing_median_age', 'population'\n",
    "            'total_rooms', 'total_bedrooms','households','median_income']"
   ]
  },
  {
   "cell_type": "code",
   "execution_count": 9,
   "metadata": {},
   "outputs": [],
   "source": [
    "# прекрасно, прекрасно справляется :)\n",
    "def make_new_features(x, y):\n",
    "    x['family_size'] = x['population'] / x['households']\n",
    "    x['pop_per_room'] = x['population'] / x['total_rooms']\n",
    "    x['pop_per_bedroom'] = x['population'] / x['total_bedrooms']\n",
    "    return x, y"
   ]
  },
  {
   "cell_type": "code",
   "execution_count": null,
   "metadata": {},
   "outputs": [],
   "source": [
    "   "
   ]
  },
  {
   "cell_type": "code",
   "execution_count": 10,
   "metadata": {},
   "outputs": [],
   "source": [
    "# нам это нужно и для трейна и для предикта\n",
    "def create_dataset(d, t):\n",
    "    ds = tf.data.Dataset.from_tensor_slices((d.to_dict('list'), t.values)).batch(64).shuffle(100).repeat()\n",
    "    ds_featured = ds.map(make_new_features)\n",
    "    return ds_featured\n",
    "    #layer = tf.keras.layers.DenseFeatures(features_list)\n",
    "    \n",
    "ds = create_dataset(df_train, target_train)\n",
    "ds_train = create_dataset(df_train, target_train)\n",
    "ds_test = create_dataset(df_test, target_test)"
   ]
  },
  {
   "cell_type": "code",
   "execution_count": 11,
   "metadata": {},
   "outputs": [
    {
     "name": "stdout",
     "output_type": "stream",
     "text": [
      "{'longitude': <tf.Tensor: shape=(64,), dtype=float32, numpy=\n",
      "array([-121.89, -118.11, -118.12, -121.45, -117.04, -121.47, -124.13,\n",
      "       -124.07, -118.18, -121.12, -121.84, -119.72, -118.3 , -121.3 ,\n",
      "       -116.93, -122.18, -121.94, -118.29, -121.99, -117.01, -118.3 ,\n",
      "       -118.43, -115.54, -117.2 , -118.13, -121.24, -122.33, -118.29,\n",
      "       -122.23, -117.3 , -121.4 , -118.47, -122.46, -116.83, -118.26,\n",
      "       -118.3 , -117.85, -118.97, -122.25, -117.95, -119.29, -118.13,\n",
      "       -121.78, -122.18, -119.08, -118.44, -122.04, -118.34, -122.91,\n",
      "       -116.9 , -121.04, -122.42, -122.09, -118.49, -116.39, -119.08,\n",
      "       -120.45, -122.15, -119.03, -118.73, -117.93, -122.15, -122.26,\n",
      "       -117.09], dtype=float32)>, 'latitude': <tf.Tensor: shape=(64,), dtype=float32, numpy=\n",
      "array([37.36, 34.02, 34.14, 38.63, 32.54, 38.53, 40.55, 40.87, 33.78,\n",
      "       38.  , 37.32, 34.42, 33.78, 38.65, 32.87, 37.72, 39.45, 34.11,\n",
      "       36.96, 32.99, 33.99, 34.3 , 32.79, 34.24, 33.85, 38.01, 37.56,\n",
      "       34.08, 37.46, 33.07, 38.59, 34.01, 37.66, 34.25, 34.24, 33.95,\n",
      "       34.11, 35.37, 40.6 , 33.99, 34.4 , 33.78, 37.66, 37.45, 36.22,\n",
      "       35.13, 37.24, 34.18, 38.43, 33.03, 39.19, 37.79, 37.41, 34.31,\n",
      "       33.82, 35.34, 36.86, 37.71, 34.23, 34.29, 33.87, 37.71, 37.52,\n",
      "       33.12], dtype=float32)>, 'housing_median_age': <tf.Tensor: shape=(64,), dtype=float32, numpy=\n",
      "array([37., 40., 52., 28.,  7., 44., 38., 47., 17., 36., 22., 49., 35.,\n",
      "       26., 17., 45., 39., 40., 42.,  8., 47., 33., 23., 22., 36., 22.,\n",
      "       34., 23., 36., 14., 18., 41., 15., 15., 35., 35., 27., 34., 16.,\n",
      "       15., 22., 45., 25., 43., 28., 34., 24., 45., 19., 11., 17., 48.,\n",
      "        8., 25., 15., 18., 34., 18., 21.,  8., 52., 36., 34., 11.],\n",
      "      dtype=float32)>, 'total_rooms': <tf.Tensor: shape=(64,), dtype=float32, numpy=\n",
      "array([ 1525.,  1727.,  2337.,  1246.,   938.,   543.,   544.,  1765.,\n",
      "        1419.,   683.,  3015.,  1610.,  2572.,  3192.,  3722.,  1498.,\n",
      "         844.,  2681.,  1275.,  3372.,  2212.,  2443.,  1712.,  8106.,\n",
      "        1885.,  1526.,  6394.,  1864.,  6090.,  2670.,  2614.,   752.,\n",
      "        6082.,  8948.,  2485.,  1182.,  1748.,  1379.,  2753.,  3978.,\n",
      "        3891.,  1016.,  1947.,  2061.,  1606.,  1170.,  1521.,  3566.,\n",
      "        1968.,  3213.,   856.,  4506.,  1480.,  1024., 11115.,  4070.,\n",
      "         673.,  5778.,  3284.,  4983.,   950.,   998.,   483.,   567.],\n",
      "      dtype=float32)>, 'total_bedrooms': <tf.Tensor: shape=(64,), dtype=float32, numpy=\n",
      "array([ 363.,  309.,  352.,  295.,  297.,  146.,   89.,  326.,  436.,\n",
      "        159.,  581.,  370.,  504.,  447.,  670.,  313.,  161.,  737.,\n",
      "        272.,  430.,  533.,  498.,  403., 1665.,  391.,  299., 1619.,\n",
      "        937., 1057.,  426.,  624.,  201., 1284., 1985.,  418.,  305.,\n",
      "        403.,  333.,  494.,  692.,  657.,  172.,  418.,  437.,  320.,\n",
      "        290.,  209.,  701.,  350.,  634.,  167., 1342.,  414.,  145.,\n",
      "       2257.,  512.,  173., 1526.,  487.,  754.,  229.,  178.,  131.,\n",
      "        184.], dtype=float32)>, 'population': <tf.Tensor: shape=(64,), dtype=float32, numpy=\n",
      "array([1075.,  932.,  981.,  884., 1187.,  506.,  240.,  796., 1300.,\n",
      "        505., 2491.,  961., 1172., 1132., 1561., 1003.,  535., 1144.,\n",
      "        451., 1536., 1903., 1601., 1370., 1062., 1049.,  790., 2400.,\n",
      "       2795., 3081., 1034., 1181.,  482., 3861., 1316., 1226.,  977.,\n",
      "        985., 1156., 1414., 2418., 1727.,  361.,  900.,  817., 1158.,\n",
      "        602.,  539., 1601.,  852., 1975.,  518., 1980.,  856.,  357.,\n",
      "       4122., 1580.,  539., 2441., 1832., 2510.,  429.,  531.,  291.,\n",
      "        620.], dtype=float32)>, 'households': <tf.Tensor: shape=(64,), dtype=float32, numpy=\n",
      "array([ 374.,  313.,  328.,  258.,  282.,  125.,   91.,  333.,  360.,\n",
      "        141.,  530.,  351.,  519.,  418.,  604.,  305.,  165.,  669.,\n",
      "        200.,  448.,  554.,  484.,  377.,  423.,  405.,  300., 1496.,\n",
      "        858., 1075.,  407.,  616.,  207., 1198.,  514.,  406.,  283.,\n",
      "        416.,  315.,  459.,  665.,  581.,  163.,  354.,  385.,  317.,\n",
      "        266.,  192.,  653.,  308.,  579.,  170., 1239.,  445.,  147.,\n",
      "       1653.,  540.,  182., 1352.,  521.,  725.,  185.,  183.,  157.,\n",
      "        163.], dtype=float32)>, 'median_income': <tf.Tensor: shape=(64,), dtype=float32, numpy=\n",
      "array([ 2.8971,  3.95  ,  5.8692,  1.4397,  1.2667,  1.3646,  3.25  ,\n",
      "        2.2138,  2.0769,  3.4265,  4.3419,  2.6983,  4.6207,  4.5278,\n",
      "        3.6027,  3.8047,  1.832 ,  3.0461,  4.7321,  8.4284,  1.9853,\n",
      "        4.0223,  1.275 ,  3.0434,  3.55  ,  2.4342,  3.4902,  1.8495,\n",
      "        5.6629,  6.4247,  2.0432,  2.5417,  5.4221,  2.7375,  5.7083,\n",
      "        1.5898,  3.1133,  1.7197,  3.8323,  5.0142,  4.2656,  7.5   ,\n",
      "        3.8523,  4.4688,  3.0324,  1.7917, 11.1557,  3.8668,  4.6705,\n",
      "        3.475 ,  3.5859,  4.0156,  2.8203,  7.0598,  2.7219, 10.5941,\n",
      "        2.3523,  3.1682,  5.2773,  6.9454,  2.315 ,  4.0208,  3.0833,\n",
      "        2.5284], dtype=float32)>, 'family_size': <tf.Tensor: shape=(64,), dtype=float32, numpy=\n",
      "array([2.8743315, 2.9776359, 2.9908535, 3.4263566, 4.20922  , 4.048    ,\n",
      "       2.6373627, 2.3903904, 3.6111112, 3.5815604, 4.7      , 2.7378917,\n",
      "       2.2581887, 2.708134 , 2.5844371, 3.2885246, 3.2424242, 1.7100149,\n",
      "       2.255    , 3.4285715, 3.435018 , 3.3078513, 3.6339521, 2.5106382,\n",
      "       2.5901234, 2.6333334, 1.6042781, 3.2575758, 2.8660464, 2.5405405,\n",
      "       1.9172078, 2.3285024, 3.2228715, 2.5603113, 3.0197043, 3.4522967,\n",
      "       2.3677886, 3.6698413, 3.08061  , 3.6360903, 2.9724612, 2.2147238,\n",
      "       2.542373 , 2.122078 , 3.6529968, 2.2631578, 2.8072917, 2.451761 ,\n",
      "       2.7662337, 3.4110537, 3.0470588, 1.598063 , 1.9235955, 2.4285715,\n",
      "       2.4936478, 2.925926 , 2.9615386, 1.8054733, 3.5163147, 3.462069 ,\n",
      "       2.318919 , 2.9016395, 1.8535032, 3.803681 ], dtype=float32)>, 'pop_per_room': <tf.Tensor: shape=(64,), dtype=float32, numpy=\n",
      "array([0.704918  , 0.53966415, 0.41976893, 0.70947033, 1.2654585 ,\n",
      "       0.93186   , 0.44117647, 0.4509915 , 0.9161381 , 0.73938507,\n",
      "       0.82620233, 0.5968944 , 0.45567653, 0.35463658, 0.41939816,\n",
      "       0.6695594 , 0.6338863 , 0.42670646, 0.3537255 , 0.455516  ,\n",
      "       0.8603074 , 0.6553418 , 0.80023366, 0.13101406, 0.55649865,\n",
      "       0.51769334, 0.3753519 , 1.4994636 , 0.50591135, 0.38726592,\n",
      "       0.45179802, 0.6409575 , 0.6348241 , 0.14707197, 0.49336016,\n",
      "       0.82656515, 0.5635011 , 0.8382886 , 0.5136215 , 0.60784316,\n",
      "       0.44384477, 0.35531497, 0.4622496 , 0.3964095 , 0.7210461 ,\n",
      "       0.51452994, 0.3543721 , 0.44896242, 0.43292683, 0.6146903 ,\n",
      "       0.6051402 , 0.4394141 , 0.5783784 , 0.3486328 , 0.3708502 ,\n",
      "       0.3882064 , 0.8008915 , 0.42246452, 0.55785626, 0.5037126 ,\n",
      "       0.45157894, 0.53206414, 0.60248446, 1.0934744 ], dtype=float32)>, 'pop_per_bedroom': <tf.Tensor: shape=(64,), dtype=float32, numpy=\n",
      "array([2.9614325, 3.0161812, 2.7869318, 2.9966102, 3.996633 , 3.4657533,\n",
      "       2.6966293, 2.4417179, 2.9816513, 3.1761007, 4.2874355, 2.5972972,\n",
      "       2.3253968, 2.5324385, 2.3298507, 3.2044728, 3.3229814, 1.5522388,\n",
      "       1.6580882, 3.572093 , 3.5703564, 3.2148595, 3.3995037, 0.6378378,\n",
      "       2.6828644, 2.6421404, 1.4823965, 2.9829242, 2.9148533, 2.4272301,\n",
      "       1.8926282, 2.39801  , 3.0070093, 0.6629723, 2.9330144, 3.2032788,\n",
      "       2.4441688, 3.4714715, 2.862348 , 3.4942195, 2.628615 , 2.0988371,\n",
      "       2.15311  , 1.8695652, 3.61875  , 2.0758622, 2.5789473, 2.2838802,\n",
      "       2.4342856, 3.1151419, 3.1017964, 1.4754099, 2.067633 , 2.462069 ,\n",
      "       1.8263181, 3.0859375, 3.115607 , 1.5996069, 3.761807 , 3.3289125,\n",
      "       1.8733624, 2.983146 , 2.221374 , 3.3695652], dtype=float32)>} tf.Tensor(\n",
      "[186100. 210200. 490400.  51700.  67500.  65400.  94800.  99200. 100000.\n",
      " 158900. 176300. 260100. 304100. 144300. 211900. 156700.  70500. 264300.\n",
      " 422400. 378300. 101100. 146000.  60400. 137200. 212800. 125000. 500001.\n",
      " 212500. 343600. 295100. 156800. 418200. 284700.  90800. 329500.  94000.\n",
      " 180600.  48900. 128300. 269900. 241400. 434500. 193000. 460200.  55600.\n",
      "  80000. 500001. 232000. 269800. 167200. 144300. 500001. 284100. 356300.\n",
      "  74400. 245800.  66000. 202700. 250800. 276500. 182100. 191500. 256300.\n",
      " 122500.], shape=(64,), dtype=float64)\n"
     ]
    }
   ],
   "source": [
    "for x, y in ds.take(1):\n",
    "    print(x, y)"
   ]
  },
  {
   "cell_type": "code",
   "execution_count": 12,
   "metadata": {},
   "outputs": [],
   "source": [
    "# feature_column имеют немного другую роль. Они потом превращаются в слой модели,\n",
    "# т.е по сути на старте они ничего и не знают про датасет, модель будет пихать в них\n",
    "# данные как в мясорубку\n",
    "\n",
    "num_features_unnorm = ['family_size', 'pop_per_room', 'pop_per_bedroom',\n",
    "                       'total_rooms', 'total_bedrooms', 'households']\n",
    "\n",
    "def create_features():\n",
    "    # не важно что мы тут делаем, важно что выводим в виде итогового массива\n",
    "    latitude = tf.feature_column.bucketized_column(\n",
    "            tf.feature_column.numeric_column('latitude'), boundaries = np.arange(32.0, 42, 1).tolist())    \n",
    "    \n",
    "    longitude = tf.feature_column.bucketized_column(\n",
    "            tf.feature_column.numeric_column('longitude'), boundaries = np.arange(-122, -114, 1).tolist())  \n",
    "    \n",
    "    squares = tf.feature_column.indicator_column(\n",
    "        tf.feature_column.crossed_column([latitude, longitude], hash_bucket_size=1000))\n",
    "\n",
    "    # нормализатор там встроен, пробую\n",
    "    def norm_housing_median_age(x):\n",
    "        return (x - housing_median_age_mean)/ housing_median_age_std\n",
    "    housing_median_age = tf.feature_column.numeric_column('housing_median_age', \n",
    "                                                          normalizer_fn = norm_housing_median_age)\n",
    "\n",
    "    def norm_median_income(x):\n",
    "        return (x - median_income_mean)/ median_income_std\n",
    "    median_income = tf.feature_column.numeric_column('median_income', \n",
    "                                                          normalizer_fn = norm_median_income)\n",
    "\n",
    "    num_features = [tf.feature_column.numeric_column(name) for name in num_features_unnorm]\n",
    "    \n",
    "    return [housing_median_age, median_income, squares] + num_features"
   ]
  },
  {
   "cell_type": "code",
   "execution_count": 13,
   "metadata": {},
   "outputs": [],
   "source": [
    "# DenseFeatures по сути просто делает тензор, на входе ему нужно подать массив \"ленточек\" из которых делать\n",
    "# а ленточки определяются через feature_columns\n",
    "\n",
    "layer = tf.keras.layers.DenseFeatures(create_features())"
   ]
  },
  {
   "cell_type": "code",
   "execution_count": 14,
   "metadata": {},
   "outputs": [
    {
     "name": "stdout",
     "output_type": "stream",
     "text": [
      "[[ 6.3121214e+00  3.3000000e+02  4.3210983e-01 ...  1.1841955e+00\n",
      "   3.5300000e+02  1.7590000e+03]\n",
      " [ 2.8150470e+00  9.5700000e+02  3.5247120e-01 ...  4.1452530e-01\n",
      "   9.9800000e+02  6.4990000e+03]\n",
      " [ 3.1012270e+00  6.5200000e+02 -1.2403014e+00 ...  5.5918139e-01\n",
      "   6.7200000e+02  3.6160000e+03]\n",
      " ...\n",
      " [ 1.9844790e+00  4.5100000e+02 -1.3995786e+00 ...  4.9611974e-01\n",
      "   5.0600000e+02  1.8040000e+03]\n",
      " [ 2.9375000e+00  9.6000000e+01 -1.4792172e+00 ...  5.4651165e-01\n",
      "   1.0700000e+02  5.1600000e+02]\n",
      " [ 2.1310241e+00  6.6400000e+02  1.8656051e+00 ...  5.7755101e-01\n",
      "   7.4100000e+02  2.4500000e+03]]\n"
     ]
    }
   ],
   "source": [
    "for x, y in ds.take(1):\n",
    "    print(layer(x).numpy())"
   ]
  },
  {
   "cell_type": "markdown",
   "metadata": {},
   "source": [
    "## модель, обучение, коллбеки и вот это вот все"
   ]
  },
  {
   "cell_type": "code",
   "execution_count": 15,
   "metadata": {},
   "outputs": [],
   "source": [
    "model = tf.keras.Sequential([\n",
    "    layer,\n",
    "    tf.keras.layers.Dense(512, activation='relu'), \n",
    "    tf.keras.layers.Dense(512, activation='relu'), \n",
    "    tf.keras.layers.Dense(1)\n",
    "])\n",
    "\n",
    "optimizer = tf.optimizers.Adam()\n",
    "\n",
    "model.compile(loss='mean_squared_error', optimizer=optimizer, metrics=['mse', 'mae'])"
   ]
  },
  {
   "cell_type": "code",
   "execution_count": 16,
   "metadata": {},
   "outputs": [],
   "source": [
    "# сохранение\n",
    "save_callback = tf.keras.callbacks.ModelCheckpoint('./save/model.ckpt', save_weights_only=True, verbose=1)\n",
    "\n",
    "# тензорбоард\n",
    "tensorboard = tf.keras.callbacks.TensorBoard(\n",
    "    log_dir='./save/', histogram_freq=0, write_graph=True, write_images=False)\n"
   ]
  },
  {
   "cell_type": "code",
   "execution_count": 17,
   "metadata": {},
   "outputs": [
    {
     "name": "stdout",
     "output_type": "stream",
     "text": [
      "Epoch 1/5\n",
      "212/212 [==============================] - ETA: 0s - loss: 32624465920.0000 - mse: 32624465920.0000 - mae: 136587.7031\n",
      "Epoch 00001: saving model to ./save/model.ckpt\n",
      "212/212 [==============================] - 22s 102ms/step - loss: 32624465920.0000 - mse: 32624465920.0000 - mae: 136587.7031 - val_loss: 28131969024.0000 - val_mse: 28131969024.0000 - val_mae: 122342.4922\n",
      "Epoch 2/5\n",
      "212/212 [==============================] - ETA: 0s - loss: 27353038848.0000 - mse: 27353038848.0000 - mae: 120440.7734\n",
      "Epoch 00002: saving model to ./save/model.ckpt\n",
      "212/212 [==============================] - 17s 78ms/step - loss: 27353038848.0000 - mse: 27353038848.0000 - mae: 120440.7734 - val_loss: 26471413760.0000 - val_mse: 26471413760.0000 - val_mae: 120026.1328\n",
      "Epoch 3/5\n",
      "212/212 [==============================] - ETA: 0s - loss: 27258079232.0000 - mse: 27258079232.0000 - mae: 120262.7422\n",
      "Epoch 00003: saving model to ./save/model.ckpt\n",
      "212/212 [==============================] - 18s 87ms/step - loss: 27258079232.0000 - mse: 27258079232.0000 - mae: 120262.7422 - val_loss: 26676914176.0000 - val_mse: 26676914176.0000 - val_mae: 118999.2656\n",
      "Epoch 4/5\n",
      "212/212 [==============================] - ETA: 0s - loss: 26961457152.0000 - mse: 26961457152.0000 - mae: 119575.2891\n",
      "Epoch 00004: saving model to ./save/model.ckpt\n",
      "212/212 [==============================] - 19s 90ms/step - loss: 26961457152.0000 - mse: 26961457152.0000 - mae: 119575.2891 - val_loss: 26918981632.0000 - val_mse: 26918981632.0000 - val_mae: 118254.8359\n",
      "Epoch 5/5\n",
      "212/212 [==============================] - ETA: 0s - loss: 26590535680.0000 - mse: 26590535680.0000 - mae: 118439.9922\n",
      "Epoch 00005: saving model to ./save/model.ckpt\n",
      "212/212 [==============================] - 16s 74ms/step - loss: 26590535680.0000 - mse: 26590535680.0000 - mae: 118439.9922 - val_loss: 26840526848.0000 - val_mse: 26840526848.0000 - val_mae: 117824.6562\n"
     ]
    }
   ],
   "source": [
    "history = model.fit(ds_train, epochs=5, steps_per_epoch=212, \n",
    "                    validation_data=ds_test, validation_steps=45, callbacks=[save_callback, tensorboard])"
   ]
  },
  {
   "cell_type": "code",
   "execution_count": null,
   "metadata": {},
   "outputs": [],
   "source": [
    "!tensorboard --logdir='./save'\n"
   ]
  },
  {
   "cell_type": "code",
   "execution_count": 18,
   "metadata": {},
   "outputs": [
    {
     "ename": "ValueError",
     "evalue": "When providing an infinite dataset, you must specify the number of steps to run.",
     "output_type": "error",
     "traceback": [
      "\u001b[0;31m---------------------------------------------------------------------------\u001b[0m",
      "\u001b[0;31mValueError\u001b[0m                                Traceback (most recent call last)",
      "\u001b[0;32m<ipython-input-18-35509cd11e69>\u001b[0m in \u001b[0;36m<module>\u001b[0;34m\u001b[0m\n\u001b[0;32m----> 1\u001b[0;31m \u001b[0mmodel\u001b[0m\u001b[0;34m.\u001b[0m\u001b[0mpredict\u001b[0m\u001b[0;34m(\u001b[0m\u001b[0mds_test\u001b[0m\u001b[0;34m)\u001b[0m\u001b[0;34m\u001b[0m\u001b[0;34m\u001b[0m\u001b[0m\n\u001b[0m",
      "\u001b[0;32m~/anaconda3/lib/python3.7/site-packages/tensorflow/python/keras/engine/training.py\u001b[0m in \u001b[0;36m_method_wrapper\u001b[0;34m(self, *args, **kwargs)\u001b[0m\n\u001b[1;32m     86\u001b[0m       raise ValueError('{} is not supported in multi-worker mode.'.format(\n\u001b[1;32m     87\u001b[0m           method.__name__))\n\u001b[0;32m---> 88\u001b[0;31m     \u001b[0;32mreturn\u001b[0m \u001b[0mmethod\u001b[0m\u001b[0;34m(\u001b[0m\u001b[0mself\u001b[0m\u001b[0;34m,\u001b[0m \u001b[0;34m*\u001b[0m\u001b[0margs\u001b[0m\u001b[0;34m,\u001b[0m \u001b[0;34m**\u001b[0m\u001b[0mkwargs\u001b[0m\u001b[0;34m)\u001b[0m\u001b[0;34m\u001b[0m\u001b[0;34m\u001b[0m\u001b[0m\n\u001b[0m\u001b[1;32m     89\u001b[0m \u001b[0;34m\u001b[0m\u001b[0m\n\u001b[1;32m     90\u001b[0m   return tf_decorator.make_decorator(\n",
      "\u001b[0;32m~/anaconda3/lib/python3.7/site-packages/tensorflow/python/keras/engine/training.py\u001b[0m in \u001b[0;36mpredict\u001b[0;34m(self, x, batch_size, verbose, steps, callbacks, max_queue_size, workers, use_multiprocessing)\u001b[0m\n\u001b[1;32m   1247\u001b[0m           \u001b[0mworkers\u001b[0m\u001b[0;34m=\u001b[0m\u001b[0mworkers\u001b[0m\u001b[0;34m,\u001b[0m\u001b[0;34m\u001b[0m\u001b[0;34m\u001b[0m\u001b[0m\n\u001b[1;32m   1248\u001b[0m           \u001b[0muse_multiprocessing\u001b[0m\u001b[0;34m=\u001b[0m\u001b[0muse_multiprocessing\u001b[0m\u001b[0;34m,\u001b[0m\u001b[0;34m\u001b[0m\u001b[0;34m\u001b[0m\u001b[0m\n\u001b[0;32m-> 1249\u001b[0;31m           model=self)\n\u001b[0m\u001b[1;32m   1250\u001b[0m \u001b[0;34m\u001b[0m\u001b[0m\n\u001b[1;32m   1251\u001b[0m       \u001b[0;31m# Container that configures and calls `tf.keras.Callback`s.\u001b[0m\u001b[0;34m\u001b[0m\u001b[0;34m\u001b[0m\u001b[0;34m\u001b[0m\u001b[0m\n",
      "\u001b[0;32m~/anaconda3/lib/python3.7/site-packages/tensorflow/python/keras/engine/data_adapter.py\u001b[0m in \u001b[0;36m__init__\u001b[0;34m(self, x, y, sample_weight, batch_size, steps_per_epoch, initial_epoch, epochs, shuffle, class_weight, max_queue_size, workers, use_multiprocessing, model)\u001b[0m\n\u001b[1;32m   1110\u001b[0m         \u001b[0muse_multiprocessing\u001b[0m\u001b[0;34m=\u001b[0m\u001b[0muse_multiprocessing\u001b[0m\u001b[0;34m,\u001b[0m\u001b[0;34m\u001b[0m\u001b[0;34m\u001b[0m\u001b[0m\n\u001b[1;32m   1111\u001b[0m         \u001b[0mdistribution_strategy\u001b[0m\u001b[0;34m=\u001b[0m\u001b[0mds_context\u001b[0m\u001b[0;34m.\u001b[0m\u001b[0mget_strategy\u001b[0m\u001b[0;34m(\u001b[0m\u001b[0;34m)\u001b[0m\u001b[0;34m,\u001b[0m\u001b[0;34m\u001b[0m\u001b[0;34m\u001b[0m\u001b[0m\n\u001b[0;32m-> 1112\u001b[0;31m         model=model)\n\u001b[0m\u001b[1;32m   1113\u001b[0m \u001b[0;34m\u001b[0m\u001b[0m\n\u001b[1;32m   1114\u001b[0m     \u001b[0mstrategy\u001b[0m \u001b[0;34m=\u001b[0m \u001b[0mds_context\u001b[0m\u001b[0;34m.\u001b[0m\u001b[0mget_strategy\u001b[0m\u001b[0;34m(\u001b[0m\u001b[0;34m)\u001b[0m\u001b[0;34m\u001b[0m\u001b[0;34m\u001b[0m\u001b[0m\n",
      "\u001b[0;32m~/anaconda3/lib/python3.7/site-packages/tensorflow/python/keras/engine/data_adapter.py\u001b[0m in \u001b[0;36m__init__\u001b[0;34m(self, x, y, sample_weights, steps, **kwargs)\u001b[0m\n\u001b[1;32m    697\u001b[0m     \u001b[0mself\u001b[0m\u001b[0;34m.\u001b[0m\u001b[0m_user_steps\u001b[0m \u001b[0;34m=\u001b[0m \u001b[0msteps\u001b[0m\u001b[0;34m\u001b[0m\u001b[0;34m\u001b[0m\u001b[0m\n\u001b[1;32m    698\u001b[0m \u001b[0;34m\u001b[0m\u001b[0m\n\u001b[0;32m--> 699\u001b[0;31m     \u001b[0mself\u001b[0m\u001b[0;34m.\u001b[0m\u001b[0m_validate_args\u001b[0m\u001b[0;34m(\u001b[0m\u001b[0my\u001b[0m\u001b[0;34m,\u001b[0m \u001b[0msample_weights\u001b[0m\u001b[0;34m,\u001b[0m \u001b[0msteps\u001b[0m\u001b[0;34m)\u001b[0m\u001b[0;34m\u001b[0m\u001b[0;34m\u001b[0m\u001b[0m\n\u001b[0m\u001b[1;32m    700\u001b[0m \u001b[0;34m\u001b[0m\u001b[0m\n\u001b[1;32m    701\u001b[0m   \u001b[0;32mdef\u001b[0m \u001b[0mget_dataset\u001b[0m\u001b[0;34m(\u001b[0m\u001b[0mself\u001b[0m\u001b[0;34m)\u001b[0m\u001b[0;34m:\u001b[0m\u001b[0;34m\u001b[0m\u001b[0;34m\u001b[0m\u001b[0m\n",
      "\u001b[0;32m~/anaconda3/lib/python3.7/site-packages/tensorflow/python/keras/engine/data_adapter.py\u001b[0m in \u001b[0;36m_validate_args\u001b[0;34m(self, y, sample_weights, steps)\u001b[0m\n\u001b[1;32m    733\u001b[0m     \u001b[0msize\u001b[0m \u001b[0;34m=\u001b[0m \u001b[0mcardinality\u001b[0m\u001b[0;34m.\u001b[0m\u001b[0mcardinality\u001b[0m\u001b[0;34m(\u001b[0m\u001b[0mself\u001b[0m\u001b[0;34m.\u001b[0m\u001b[0m_dataset\u001b[0m\u001b[0;34m)\u001b[0m\u001b[0;34m.\u001b[0m\u001b[0mnumpy\u001b[0m\u001b[0;34m(\u001b[0m\u001b[0;34m)\u001b[0m\u001b[0;34m\u001b[0m\u001b[0;34m\u001b[0m\u001b[0m\n\u001b[1;32m    734\u001b[0m     \u001b[0;32mif\u001b[0m \u001b[0msize\u001b[0m \u001b[0;34m==\u001b[0m \u001b[0mcardinality\u001b[0m\u001b[0;34m.\u001b[0m\u001b[0mINFINITE\u001b[0m \u001b[0;32mand\u001b[0m \u001b[0msteps\u001b[0m \u001b[0;32mis\u001b[0m \u001b[0;32mNone\u001b[0m\u001b[0;34m:\u001b[0m\u001b[0;34m\u001b[0m\u001b[0;34m\u001b[0m\u001b[0m\n\u001b[0;32m--> 735\u001b[0;31m       raise ValueError(\"When providing an infinite dataset, you must specify \"\n\u001b[0m\u001b[1;32m    736\u001b[0m                        \"the number of steps to run.\")\n\u001b[1;32m    737\u001b[0m \u001b[0;34m\u001b[0m\u001b[0m\n",
      "\u001b[0;31mValueError\u001b[0m: When providing an infinite dataset, you must specify the number of steps to run."
     ]
    }
   ],
   "source": [
    "model.predict(ds_test)"
   ]
  },
  {
   "cell_type": "code",
   "execution_count": null,
   "metadata": {},
   "outputs": [],
   "source": []
  },
  {
   "cell_type": "code",
   "execution_count": null,
   "metadata": {},
   "outputs": [],
   "source": [
    "model.comp"
   ]
  }
 ],
 "metadata": {
  "kernelspec": {
   "display_name": "Python 3",
   "language": "python",
   "name": "python3"
  },
  "language_info": {
   "codemirror_mode": {
    "name": "ipython",
    "version": 3
   },
   "file_extension": ".py",
   "mimetype": "text/x-python",
   "name": "python",
   "nbconvert_exporter": "python",
   "pygments_lexer": "ipython3",
   "version": "3.7.6"
  }
 },
 "nbformat": 4,
 "nbformat_minor": 4
}
