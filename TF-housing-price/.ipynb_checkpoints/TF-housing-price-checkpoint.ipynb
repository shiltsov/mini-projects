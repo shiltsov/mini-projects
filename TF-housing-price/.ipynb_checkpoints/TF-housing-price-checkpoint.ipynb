{
 "cells": [
  {
   "cell_type": "markdown",
   "metadata": {},
   "source": [
    "## Housing price\n",
    "\n",
    "https://storage.googleapis.com/ml_universities/california_housing_train.csv\n",
    "\n",
    "что хочу:\n",
    "    - импортировать в пандас, посмотреть что как, очистить, разбить на трейн и тест\n",
    "    - построить TF датасет, поработать с фичами\n",
    "    - построить и обучить денс-нн, учить с коллбеками, с сохранением слоев и с валидацией\n",
    "    - на коллбеках сохраняться"
   ]
  },
  {
   "cell_type": "code",
   "execution_count": 1,
   "metadata": {},
   "outputs": [],
   "source": [
    "import pandas as pd\n",
    "import numpy as np\n",
    "import tensorflow as tf\n",
    "from sklearn.model_selection import train_test_split\n",
    "from matplotlib import pyplot as plt\n",
    "\n",
    "%matplotlib inline\n",
    "%load_ext tensorboard"
   ]
  },
  {
   "cell_type": "code",
   "execution_count": 2,
   "metadata": {},
   "outputs": [],
   "source": [
    "df = pd.read_csv(\"https://storage.googleapis.com/ml_universities/california_housing_train.csv\", sep=\",\")"
   ]
  },
  {
   "cell_type": "code",
   "execution_count": 3,
   "metadata": {},
   "outputs": [
    {
     "data": {
      "text/html": [
       "<div>\n",
       "<style scoped>\n",
       "    .dataframe tbody tr th:only-of-type {\n",
       "        vertical-align: middle;\n",
       "    }\n",
       "\n",
       "    .dataframe tbody tr th {\n",
       "        vertical-align: top;\n",
       "    }\n",
       "\n",
       "    .dataframe thead th {\n",
       "        text-align: right;\n",
       "    }\n",
       "</style>\n",
       "<table border=\"1\" class=\"dataframe\">\n",
       "  <thead>\n",
       "    <tr style=\"text-align: right;\">\n",
       "      <th></th>\n",
       "      <th>longitude</th>\n",
       "      <th>latitude</th>\n",
       "      <th>housing_median_age</th>\n",
       "      <th>total_rooms</th>\n",
       "      <th>total_bedrooms</th>\n",
       "      <th>population</th>\n",
       "      <th>households</th>\n",
       "      <th>median_income</th>\n",
       "      <th>median_house_value</th>\n",
       "    </tr>\n",
       "  </thead>\n",
       "  <tbody>\n",
       "    <tr>\n",
       "      <th>0</th>\n",
       "      <td>-114.31</td>\n",
       "      <td>34.19</td>\n",
       "      <td>15.0</td>\n",
       "      <td>5612.0</td>\n",
       "      <td>1283.0</td>\n",
       "      <td>1015.0</td>\n",
       "      <td>472.0</td>\n",
       "      <td>1.4936</td>\n",
       "      <td>66900.0</td>\n",
       "    </tr>\n",
       "    <tr>\n",
       "      <th>1</th>\n",
       "      <td>-114.47</td>\n",
       "      <td>34.40</td>\n",
       "      <td>19.0</td>\n",
       "      <td>7650.0</td>\n",
       "      <td>1901.0</td>\n",
       "      <td>1129.0</td>\n",
       "      <td>463.0</td>\n",
       "      <td>1.8200</td>\n",
       "      <td>80100.0</td>\n",
       "    </tr>\n",
       "    <tr>\n",
       "      <th>2</th>\n",
       "      <td>-114.56</td>\n",
       "      <td>33.69</td>\n",
       "      <td>17.0</td>\n",
       "      <td>720.0</td>\n",
       "      <td>174.0</td>\n",
       "      <td>333.0</td>\n",
       "      <td>117.0</td>\n",
       "      <td>1.6509</td>\n",
       "      <td>85700.0</td>\n",
       "    </tr>\n",
       "    <tr>\n",
       "      <th>3</th>\n",
       "      <td>-114.57</td>\n",
       "      <td>33.64</td>\n",
       "      <td>14.0</td>\n",
       "      <td>1501.0</td>\n",
       "      <td>337.0</td>\n",
       "      <td>515.0</td>\n",
       "      <td>226.0</td>\n",
       "      <td>3.1917</td>\n",
       "      <td>73400.0</td>\n",
       "    </tr>\n",
       "    <tr>\n",
       "      <th>4</th>\n",
       "      <td>-114.57</td>\n",
       "      <td>33.57</td>\n",
       "      <td>20.0</td>\n",
       "      <td>1454.0</td>\n",
       "      <td>326.0</td>\n",
       "      <td>624.0</td>\n",
       "      <td>262.0</td>\n",
       "      <td>1.9250</td>\n",
       "      <td>65500.0</td>\n",
       "    </tr>\n",
       "  </tbody>\n",
       "</table>\n",
       "</div>"
      ],
      "text/plain": [
       "   longitude  latitude  housing_median_age  total_rooms  total_bedrooms  \\\n",
       "0    -114.31     34.19                15.0       5612.0          1283.0   \n",
       "1    -114.47     34.40                19.0       7650.0          1901.0   \n",
       "2    -114.56     33.69                17.0        720.0           174.0   \n",
       "3    -114.57     33.64                14.0       1501.0           337.0   \n",
       "4    -114.57     33.57                20.0       1454.0           326.0   \n",
       "\n",
       "   population  households  median_income  median_house_value  \n",
       "0      1015.0       472.0         1.4936             66900.0  \n",
       "1      1129.0       463.0         1.8200             80100.0  \n",
       "2       333.0       117.0         1.6509             85700.0  \n",
       "3       515.0       226.0         3.1917             73400.0  \n",
       "4       624.0       262.0         1.9250             65500.0  "
      ]
     },
     "execution_count": 3,
     "metadata": {},
     "output_type": "execute_result"
    }
   ],
   "source": [
    "df.head()"
   ]
  },
  {
   "cell_type": "code",
   "execution_count": 4,
   "metadata": {},
   "outputs": [],
   "source": [
    "# разбиваем на трейн и валидацию\n",
    "df_train, df_test = train_test_split(df, train_size=0.8)"
   ]
  },
  {
   "cell_type": "code",
   "execution_count": null,
   "metadata": {},
   "outputs": [],
   "source": []
  },
  {
   "cell_type": "code",
   "execution_count": 5,
   "metadata": {},
   "outputs": [
    {
     "data": {
      "text/html": [
       "<div>\n",
       "<style scoped>\n",
       "    .dataframe tbody tr th:only-of-type {\n",
       "        vertical-align: middle;\n",
       "    }\n",
       "\n",
       "    .dataframe tbody tr th {\n",
       "        vertical-align: top;\n",
       "    }\n",
       "\n",
       "    .dataframe thead th {\n",
       "        text-align: right;\n",
       "    }\n",
       "</style>\n",
       "<table border=\"1\" class=\"dataframe\">\n",
       "  <thead>\n",
       "    <tr style=\"text-align: right;\">\n",
       "      <th></th>\n",
       "      <th>longitude</th>\n",
       "      <th>latitude</th>\n",
       "      <th>housing_median_age</th>\n",
       "      <th>total_rooms</th>\n",
       "      <th>total_bedrooms</th>\n",
       "      <th>population</th>\n",
       "      <th>households</th>\n",
       "      <th>median_income</th>\n",
       "      <th>median_house_value</th>\n",
       "    </tr>\n",
       "  </thead>\n",
       "  <tbody>\n",
       "    <tr>\n",
       "      <th>count</th>\n",
       "      <td>13600.000000</td>\n",
       "      <td>13600.000000</td>\n",
       "      <td>13600.000000</td>\n",
       "      <td>13600.000000</td>\n",
       "      <td>13600.000000</td>\n",
       "      <td>13600.000000</td>\n",
       "      <td>13600.000000</td>\n",
       "      <td>13600.000000</td>\n",
       "      <td>13600.000000</td>\n",
       "    </tr>\n",
       "    <tr>\n",
       "      <th>mean</th>\n",
       "      <td>-119.543408</td>\n",
       "      <td>35.607161</td>\n",
       "      <td>28.619779</td>\n",
       "      <td>2649.010221</td>\n",
       "      <td>540.041544</td>\n",
       "      <td>1434.929706</td>\n",
       "      <td>502.303456</td>\n",
       "      <td>3.882884</td>\n",
       "      <td>206927.849118</td>\n",
       "    </tr>\n",
       "    <tr>\n",
       "      <th>std</th>\n",
       "      <td>2.004621</td>\n",
       "      <td>2.137043</td>\n",
       "      <td>12.510682</td>\n",
       "      <td>2198.643630</td>\n",
       "      <td>422.191707</td>\n",
       "      <td>1165.237131</td>\n",
       "      <td>385.903800</td>\n",
       "      <td>1.914842</td>\n",
       "      <td>115690.911833</td>\n",
       "    </tr>\n",
       "    <tr>\n",
       "      <th>min</th>\n",
       "      <td>-124.350000</td>\n",
       "      <td>32.550000</td>\n",
       "      <td>1.000000</td>\n",
       "      <td>2.000000</td>\n",
       "      <td>1.000000</td>\n",
       "      <td>6.000000</td>\n",
       "      <td>1.000000</td>\n",
       "      <td>0.499900</td>\n",
       "      <td>14999.000000</td>\n",
       "    </tr>\n",
       "    <tr>\n",
       "      <th>25%</th>\n",
       "      <td>-121.750000</td>\n",
       "      <td>33.930000</td>\n",
       "      <td>18.000000</td>\n",
       "      <td>1463.000000</td>\n",
       "      <td>299.000000</td>\n",
       "      <td>793.000000</td>\n",
       "      <td>283.000000</td>\n",
       "      <td>2.564225</td>\n",
       "      <td>119200.000000</td>\n",
       "    </tr>\n",
       "    <tr>\n",
       "      <th>50%</th>\n",
       "      <td>-118.480000</td>\n",
       "      <td>34.240000</td>\n",
       "      <td>29.000000</td>\n",
       "      <td>2134.000000</td>\n",
       "      <td>435.000000</td>\n",
       "      <td>1171.000000</td>\n",
       "      <td>410.000000</td>\n",
       "      <td>3.542750</td>\n",
       "      <td>180450.000000</td>\n",
       "    </tr>\n",
       "    <tr>\n",
       "      <th>75%</th>\n",
       "      <td>-117.990000</td>\n",
       "      <td>37.710000</td>\n",
       "      <td>37.000000</td>\n",
       "      <td>3149.000000</td>\n",
       "      <td>651.000000</td>\n",
       "      <td>1720.000000</td>\n",
       "      <td>606.000000</td>\n",
       "      <td>4.761525</td>\n",
       "      <td>264100.000000</td>\n",
       "    </tr>\n",
       "    <tr>\n",
       "      <th>max</th>\n",
       "      <td>-114.310000</td>\n",
       "      <td>41.950000</td>\n",
       "      <td>52.000000</td>\n",
       "      <td>37937.000000</td>\n",
       "      <td>6445.000000</td>\n",
       "      <td>35682.000000</td>\n",
       "      <td>6082.000000</td>\n",
       "      <td>15.000100</td>\n",
       "      <td>500001.000000</td>\n",
       "    </tr>\n",
       "  </tbody>\n",
       "</table>\n",
       "</div>"
      ],
      "text/plain": [
       "          longitude      latitude  housing_median_age   total_rooms  \\\n",
       "count  13600.000000  13600.000000        13600.000000  13600.000000   \n",
       "mean    -119.543408     35.607161           28.619779   2649.010221   \n",
       "std        2.004621      2.137043           12.510682   2198.643630   \n",
       "min     -124.350000     32.550000            1.000000      2.000000   \n",
       "25%     -121.750000     33.930000           18.000000   1463.000000   \n",
       "50%     -118.480000     34.240000           29.000000   2134.000000   \n",
       "75%     -117.990000     37.710000           37.000000   3149.000000   \n",
       "max     -114.310000     41.950000           52.000000  37937.000000   \n",
       "\n",
       "       total_bedrooms    population    households  median_income  \\\n",
       "count    13600.000000  13600.000000  13600.000000   13600.000000   \n",
       "mean       540.041544   1434.929706    502.303456       3.882884   \n",
       "std        422.191707   1165.237131    385.903800       1.914842   \n",
       "min          1.000000      6.000000      1.000000       0.499900   \n",
       "25%        299.000000    793.000000    283.000000       2.564225   \n",
       "50%        435.000000   1171.000000    410.000000       3.542750   \n",
       "75%        651.000000   1720.000000    606.000000       4.761525   \n",
       "max       6445.000000  35682.000000   6082.000000      15.000100   \n",
       "\n",
       "       median_house_value  \n",
       "count        13600.000000  \n",
       "mean        206927.849118  \n",
       "std         115690.911833  \n",
       "min          14999.000000  \n",
       "25%         119200.000000  \n",
       "50%         180450.000000  \n",
       "75%         264100.000000  \n",
       "max         500001.000000  "
      ]
     },
     "execution_count": 5,
     "metadata": {},
     "output_type": "execute_result"
    }
   ],
   "source": [
    "df_train.describe()"
   ]
  },
  {
   "cell_type": "code",
   "execution_count": 6,
   "metadata": {},
   "outputs": [
    {
     "data": {
      "text/plain": [
       "(28.619779411764707, 12.510681896177, 3.8828840735294334, 1.9148418965025296)"
      ]
     },
     "execution_count": 6,
     "metadata": {},
     "output_type": "execute_result"
    }
   ],
   "source": [
    "housing_median_age_mean = df_train['housing_median_age'].mean()\n",
    "housing_median_age_std =  df_train['housing_median_age'].std()\n",
    "\n",
    "median_income_mean = df_train['median_income'].mean()\n",
    "median_income_std = df_train['median_income'].std()\n",
    "\n",
    "# эти данные буду использовать для нормализации\n",
    "housing_median_age_mean, housing_median_age_std, median_income_mean, median_income_std"
   ]
  },
  {
   "cell_type": "code",
   "execution_count": 7,
   "metadata": {},
   "outputs": [],
   "source": [
    "# то, что предсказываем\n",
    "target_train = df_train.pop('median_house_value')\n",
    "target_test = df_test.pop('median_house_value')"
   ]
  },
  {
   "cell_type": "code",
   "execution_count": null,
   "metadata": {},
   "outputs": [],
   "source": []
  },
  {
   "cell_type": "code",
   "execution_count": null,
   "metadata": {},
   "outputs": [],
   "source": []
  },
  {
   "cell_type": "markdown",
   "metadata": {},
   "source": [
    "## Работа с фичами\n",
    "    \n",
    "    - хочу на лету создавать новые фичи - среднее число комнат на дом, среднее число жильцов на комнату\n",
    "    - longitude и latitude сначала делаем бакетами, потом делаем из них крест. Т.к у нас признаком являются не сами числа, а принадлежность к квадратику\n",
    "    - нормализовать все данными из датасета"
   ]
  },
  {
   "cell_type": "code",
   "execution_count": 8,
   "metadata": {},
   "outputs": [],
   "source": [
    "features = ['longitude', 'latitude', 'housing_median_age', 'population'\n",
    "            'total_rooms', 'total_bedrooms','households','median_income']"
   ]
  },
  {
   "cell_type": "code",
   "execution_count": 9,
   "metadata": {},
   "outputs": [],
   "source": [
    "# прекрасно, прекрасно справляется :)\n",
    "def make_new_features(x, y):\n",
    "    x['family_size'] = x['population'] / x['households']\n",
    "    x['pop_per_room'] = x['population'] / x['total_rooms']\n",
    "    x['pop_per_bedroom'] = x['population'] / x['total_bedrooms']\n",
    "    return x, y"
   ]
  },
  {
   "cell_type": "code",
   "execution_count": null,
   "metadata": {},
   "outputs": [],
   "source": [
    "   "
   ]
  },
  {
   "cell_type": "code",
   "execution_count": 10,
   "metadata": {},
   "outputs": [],
   "source": [
    "# нам это нужно и для трейна и для предикта\n",
    "def create_dataset(d, t):\n",
    "    ds = tf.data.Dataset.from_tensor_slices((d.to_dict('list'), t.values)).batch(4)\n",
    "    ds_featured = ds.map(make_new_features)\n",
    "    return ds_featured\n",
    "    #layer = tf.keras.layers.DenseFeatures(features_list)\n",
    "    \n",
    "ds = create_dataset(df_train, target_train)\n",
    "ds_train = create_dataset(df_train, target_train)\n",
    "ds_test = create_dataset(df_test, target_test)"
   ]
  },
  {
   "cell_type": "code",
   "execution_count": 11,
   "metadata": {},
   "outputs": [
    {
     "name": "stdout",
     "output_type": "stream",
     "text": [
      "{'longitude': <tf.Tensor: shape=(4,), dtype=float32, numpy=array([-119.79, -124.  , -118.27, -118.58], dtype=float32)>, 'latitude': <tf.Tensor: shape=(4,), dtype=float32, numpy=array([34.43, 40.22, 33.82, 34.17], dtype=float32)>, 'housing_median_age': <tf.Tensor: shape=(4,), dtype=float32, numpy=array([26., 16., 28., 29.], dtype=float32)>, 'total_rooms': <tf.Tensor: shape=(4,), dtype=float32, numpy=array([3611., 2088., 1642., 3393.], dtype=float32)>, 'total_bedrooms': <tf.Tensor: shape=(4,), dtype=float32, numpy=array([563., 535., 434., 574.], dtype=float32)>, 'population': <tf.Tensor: shape=(4,), dtype=float32, numpy=array([2089.,  816., 1575., 1471.], dtype=float32)>, 'households': <tf.Tensor: shape=(4,), dtype=float32, numpy=array([540., 326., 420., 587.], dtype=float32)>, 'median_income': <tf.Tensor: shape=(4,), dtype=float32, numpy=array([5.1615, 1.319 , 4.1292, 6.2064], dtype=float32)>, 'family_size': <tf.Tensor: shape=(4,), dtype=float32, numpy=array([3.8685186, 2.5030675, 3.75     , 2.5059626], dtype=float32)>, 'pop_per_room': <tf.Tensor: shape=(4,), dtype=float32, numpy=array([0.5785101 , 0.3908046 , 0.9591961 , 0.43353963], dtype=float32)>, 'pop_per_bedroom': <tf.Tensor: shape=(4,), dtype=float32, numpy=array([3.7104795, 1.5252336, 3.6290324, 2.5627177], dtype=float32)>} tf.Tensor([276200.  70700. 201900. 334900.], shape=(4,), dtype=float64)\n"
     ]
    }
   ],
   "source": [
    "for x, y in ds.take(1):\n",
    "    print(x, y)"
   ]
  },
  {
   "cell_type": "code",
   "execution_count": 12,
   "metadata": {},
   "outputs": [],
   "source": [
    "# feature_column имеют немного другую роль. Они потом превращаются в слой модели,\n",
    "# т.е по сути на старте они ничего и не знают про датасет, модель будет пихать в них\n",
    "# данные как в мясорубку\n",
    "\n",
    "num_features_unnorm = ['family_size', 'pop_per_room', 'pop_per_bedroom',\n",
    "                       'total_rooms', 'total_bedrooms', 'households']\n",
    "\n",
    "def create_features():\n",
    "    # не важно что мы тут делаем, важно что выводим в виде итогового массива\n",
    "    latitude = tf.feature_column.bucketized_column(\n",
    "            tf.feature_column.numeric_column('latitude'), boundaries = np.arange(32.0, 42, 1).tolist())    \n",
    "    \n",
    "    longitude = tf.feature_column.bucketized_column(\n",
    "            tf.feature_column.numeric_column('longitude'), boundaries = np.arange(-122, -114, 1).tolist())  \n",
    "    \n",
    "    squares = tf.feature_column.indicator_column(\n",
    "        tf.feature_column.crossed_column([latitude, longitude], hash_bucket_size=1000))\n",
    "\n",
    "    # нормализатор там встроен, пробую\n",
    "    def norm_housing_median_age(x):\n",
    "        return (x - housing_median_age_mean)/ housing_median_age_std\n",
    "    housing_median_age = tf.feature_column.numeric_column('housing_median_age', \n",
    "                                                          normalizer_fn = norm_housing_median_age)\n",
    "\n",
    "    def norm_median_income(x):\n",
    "        return (x - median_income_mean)/ median_income_std\n",
    "    median_income = tf.feature_column.numeric_column('median_income', \n",
    "                                                          normalizer_fn = norm_median_income)\n",
    "\n",
    "    num_features = [tf.feature_column.numeric_column(name) for name in num_features_unnorm]\n",
    "    \n",
    "    return [housing_median_age, median_income, latitude] + num_features"
   ]
  },
  {
   "cell_type": "code",
   "execution_count": 13,
   "metadata": {},
   "outputs": [],
   "source": [
    "# DenseFeatures по сути просто делает тензор, на входе ему нужно подать массив \"ленточек\" из которых делать\n",
    "# а ленточки определяются через feature_columns\n",
    "\n",
    "layer = tf.keras.layers.DenseFeatures(create_features())"
   ]
  },
  {
   "cell_type": "code",
   "execution_count": 14,
   "metadata": {},
   "outputs": [
    {
     "name": "stdout",
     "output_type": "stream",
     "text": [
      "[[ 3.8685186e+00  5.4000000e+02 -2.0940341e-01  0.0000000e+00\n",
      "   0.0000000e+00  0.0000000e+00  1.0000000e+00  0.0000000e+00\n",
      "   0.0000000e+00  0.0000000e+00  0.0000000e+00  0.0000000e+00\n",
      "   0.0000000e+00  0.0000000e+00  6.6773969e-01  3.7104795e+00\n",
      "   5.7851011e-01  5.6300000e+02  3.6110000e+03]\n",
      " [ 2.5030675e+00  3.2600000e+02 -1.0087204e+00  0.0000000e+00\n",
      "   0.0000000e+00  0.0000000e+00  0.0000000e+00  0.0000000e+00\n",
      "   0.0000000e+00  0.0000000e+00  0.0000000e+00  0.0000000e+00\n",
      "   1.0000000e+00  0.0000000e+00 -1.3389534e+00  1.5252336e+00\n",
      "   3.9080459e-01  5.3500000e+02  2.0880000e+03]\n",
      " [ 3.7500000e+00  4.2000000e+02 -4.9540032e-02  0.0000000e+00\n",
      "   0.0000000e+00  1.0000000e+00  0.0000000e+00  0.0000000e+00\n",
      "   0.0000000e+00  0.0000000e+00  0.0000000e+00  0.0000000e+00\n",
      "   0.0000000e+00  0.0000000e+00  1.2863514e-01  3.6290324e+00\n",
      "   9.5919609e-01  4.3400000e+02  1.6420000e+03]\n",
      " [ 2.5059626e+00  5.8700000e+02  3.0391661e-02  0.0000000e+00\n",
      "   0.0000000e+00  0.0000000e+00  1.0000000e+00  0.0000000e+00\n",
      "   0.0000000e+00  0.0000000e+00  0.0000000e+00  0.0000000e+00\n",
      "   0.0000000e+00  0.0000000e+00  1.2134244e+00  2.5627177e+00\n",
      "   4.3353963e-01  5.7400000e+02  3.3930000e+03]]\n"
     ]
    }
   ],
   "source": [
    "for x, y in ds.take(1):\n",
    "    print(layer(x).numpy())"
   ]
  },
  {
   "cell_type": "markdown",
   "metadata": {},
   "source": [
    "## модель, обучение, коллбеки и вот это вот все"
   ]
  },
  {
   "cell_type": "code",
   "execution_count": 16,
   "metadata": {},
   "outputs": [],
   "source": [
    "model = tf.keras.Sequential([\n",
    "    layer,\n",
    "    tf.keras.layers.Dense(512, activation='relu'), \n",
    "    tf.keras.layers.Dense(512, activation='relu'), \n",
    "    tf.keras.layers.Dense(1)\n",
    "])\n",
    "\n",
    "model.compile(loss='mean_squared_error', optimizer='adam', metrics=['mse', 'mae'])"
   ]
  },
  {
   "cell_type": "code",
   "execution_count": 17,
   "metadata": {},
   "outputs": [],
   "source": [
    "# сохранение\n",
    "save_callback = tf.keras.callbacks.ModelCheckpoint('./save/model.ckpt', save_weights_only=True, verbose=1)\n",
    "\n",
    "# тензорбоард\n",
    "tensorboard = tf.keras.callbacks.TensorBoard(\n",
    "    log_dir='./save/', histogram_freq=0, write_graph=True, write_images=True)\n",
    "\n"
   ]
  },
  {
   "cell_type": "code",
   "execution_count": null,
   "metadata": {},
   "outputs": [],
   "source": []
  },
  {
   "cell_type": "code",
   "execution_count": 18,
   "metadata": {},
   "outputs": [
    {
     "name": "stdout",
     "output_type": "stream",
     "text": [
      "Epoch 1/10\n",
      "3400/3400 [==============================] - ETA: 0s - loss: 27652139008.0000 - mse: 27652139008.0000 - mae: 120797.6016\n",
      "Epoch 00001: saving model to ./save/model.ckpt\n",
      "3400/3400 [==============================] - 91s 27ms/step - loss: 27652139008.0000 - mse: 27652139008.0000 - mae: 120797.6016 - val_loss: 30031022080.0000 - val_mse: 30031022080.0000 - val_mae: 132626.6250\n",
      "Epoch 2/10\n",
      "3400/3400 [==============================] - ETA: 0s - loss: 25714413568.0000 - mse: 25714413568.0000 - mae: 113753.8047\n",
      "Epoch 00002: saving model to ./save/model.ckpt\n",
      "3400/3400 [==============================] - 68s 20ms/step - loss: 25714413568.0000 - mse: 25714413568.0000 - mae: 113753.8047 - val_loss: 27265505280.0000 - val_mse: 27265505280.0000 - val_mae: 124275.5312\n",
      "Epoch 3/10\n",
      "3400/3400 [==============================] - ETA: 0s - loss: 26157127680.0000 - mse: 26157127680.0000 - mae: 100212.6875\n",
      "Epoch 00003: saving model to ./save/model.ckpt\n",
      "3400/3400 [==============================] - 78s 23ms/step - loss: 26157127680.0000 - mse: 26157127680.0000 - mae: 100212.6875 - val_loss: 25304598528.0000 - val_mse: 25304598528.0000 - val_mae: 119557.0156\n",
      "Epoch 4/10\n",
      "3397/3400 [============================>.] - ETA: 0s - loss: 26928369664.0000 - mse: 26928369664.0000 - mae: 85004.8359\n",
      "Epoch 00004: saving model to ./save/model.ckpt\n",
      "3400/3400 [==============================] - 87s 26ms/step - loss: 26917826560.0000 - mse: 26917826560.0000 - mae: 85012.9609 - val_loss: 19210936320.0000 - val_mse: 19210936320.0000 - val_mae: 100770.4844\n",
      "Epoch 5/10\n",
      "3400/3400 [==============================] - ETA: 0s - loss: 25473513472.0000 - mse: 25473513472.0000 - mae: 78978.2578\n",
      "Epoch 00005: saving model to ./save/model.ckpt\n",
      "3400/3400 [==============================] - 61s 18ms/step - loss: 25473513472.0000 - mse: 25473513472.0000 - mae: 78978.2578 - val_loss: 15853593600.0000 - val_mse: 15853593600.0000 - val_mae: 90175.9844\n",
      "Epoch 6/10\n",
      "3400/3400 [==============================] - ETA: 0s - loss: 24490039296.0000 - mse: 24490039296.0000 - mae: 75950.6250\n",
      "Epoch 00006: saving model to ./save/model.ckpt\n",
      "3400/3400 [==============================] - 77s 23ms/step - loss: 24490039296.0000 - mse: 24490039296.0000 - mae: 75950.6250 - val_loss: 14022063104.0000 - val_mse: 14022063104.0000 - val_mae: 84194.2812\n",
      "Epoch 7/10\n",
      "3400/3400 [==============================] - ETA: 0s - loss: 22012223488.0000 - mse: 22012223488.0000 - mae: 74494.5859\n",
      "Epoch 00007: saving model to ./save/model.ckpt\n",
      "3400/3400 [==============================] - 87s 25ms/step - loss: 22012223488.0000 - mse: 22012223488.0000 - mae: 74494.5859 - val_loss: 16454206464.0000 - val_mse: 16454206464.0000 - val_mae: 93425.6641\n",
      "Epoch 8/10\n",
      "3398/3400 [============================>.] - ETA: 0s - loss: 20313686016.0000 - mse: 20313686016.0000 - mae: 72980.2969\n",
      "Epoch 00008: saving model to ./save/model.ckpt\n",
      "3400/3400 [==============================] - 97s 28ms/step - loss: 20309854208.0000 - mse: 20309854208.0000 - mae: 72991.7500 - val_loss: 15814742016.0000 - val_mse: 15814742016.0000 - val_mae: 91274.2188\n",
      "Epoch 9/10\n",
      "3399/3400 [============================>.] - ETA: 0s - loss: 18419019776.0000 - mse: 18419019776.0000 - mae: 71618.3906\n",
      "Epoch 00009: saving model to ./save/model.ckpt\n",
      "3400/3400 [==============================] - 94s 28ms/step - loss: 18417496064.0000 - mse: 18417496064.0000 - mae: 71625.0625 - val_loss: 13443216384.0000 - val_mse: 13443216384.0000 - val_mae: 82423.7109\n",
      "Epoch 10/10\n",
      "3399/3400 [============================>.] - ETA: 0s - loss: 16373809152.0000 - mse: 16373809152.0000 - mae: 70139.6562\n",
      "Epoch 00010: saving model to ./save/model.ckpt\n",
      "3400/3400 [==============================] - 67s 20ms/step - loss: 16371506176.0000 - mse: 16371506176.0000 - mae: 70140.3125 - val_loss: 11435896832.0000 - val_mse: 11435896832.0000 - val_mae: 75173.8828\n"
     ]
    }
   ],
   "source": [
    "history = model.fit(ds_train, epochs=10, validation_data=ds_test, callbacks=[save_callback, tensorboard])"
   ]
  },
  {
   "cell_type": "code",
   "execution_count": null,
   "metadata": {},
   "outputs": [],
   "source": [
    "!tensorboard --logdir='./save'\n"
   ]
  },
  {
   "cell_type": "code",
   "execution_count": null,
   "metadata": {},
   "outputs": [],
   "source": []
  }
 ],
 "metadata": {
  "kernelspec": {
   "display_name": "Python 3",
   "language": "python",
   "name": "python3"
  },
  "language_info": {
   "codemirror_mode": {
    "name": "ipython",
    "version": 3
   },
   "file_extension": ".py",
   "mimetype": "text/x-python",
   "name": "python",
   "nbconvert_exporter": "python",
   "pygments_lexer": "ipython3",
   "version": "3.7.6"
  }
 },
 "nbformat": 4,
 "nbformat_minor": 4
}
