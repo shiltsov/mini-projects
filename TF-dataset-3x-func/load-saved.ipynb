{
 "cells": [
  {
   "cell_type": "code",
   "execution_count": 24,
   "metadata": {},
   "outputs": [],
   "source": [
    "import pandas as pd\n",
    "import numpy as np\n",
    "import tensorflow as tf\n",
    "from matplotlib import pyplot as plt\n",
    "from tensorflow.keras.callbacks import TensorBoard\n",
    "from tensorflow.keras.models import load_model\n",
    "\n",
    "%matplotlib inline"
   ]
  },
  {
   "cell_type": "code",
   "execution_count": 41,
   "metadata": {},
   "outputs": [
    {
     "name": "stdout",
     "output_type": "stream",
     "text": [
      "(500,) (500,) (500,)\n"
     ]
    }
   ],
   "source": [
    "x_test = tf.constant(np.random.choice(np.linspace(-5, 5, 5000), 500,  replace=False))\n",
    "y_test = tf.constant(np.random.choice(np.linspace(-5, 5, 5000), 500,  replace=False))\n",
    "z_test = tf.constant(np.random.choice(np.linspace(-5, 5, 5000), 500,  replace=False))\n",
    "\n",
    "f_test = x_test**2. + 1/(y_test+6.) + x_test*z_test + np.exp(z_test)\n",
    "\n",
    "print(x_test.shape, y_test.shape, z_test.shape)\n"
   ]
  },
  {
   "cell_type": "code",
   "execution_count": 42,
   "metadata": {},
   "outputs": [],
   "source": [
    "X_test = tf.data.Dataset.from_tensor_slices({'x': x_test, \n",
    "                                             'y': y_test, \n",
    "                                             'z': z_test}).batch(500)\n",
    "##  !!! помнить - нет батча - ничего и не выйдет !!!"
   ]
  },
  {
   "cell_type": "code",
   "execution_count": 43,
   "metadata": {},
   "outputs": [],
   "source": [
    "def rmse(y_true, y_pred):\n",
    "    return tf.sqrt(tf.reduce_mean(tf.square(y_true-y_pred)))\n",
    "\n",
    "model = load_model('./mymodel', custom_objects={'rmse':rmse})\n"
   ]
  },
  {
   "cell_type": "code",
   "execution_count": 44,
   "metadata": {},
   "outputs": [
    {
     "data": {
      "text/plain": [
       "array([[-2.2491598],\n",
       "       [-2.138801 ],\n",
       "       [21.374008 ],\n",
       "       [68.59869  ],\n",
       "       [15.964015 ],\n",
       "       [ 1.6962414],\n",
       "       [37.563988 ],\n",
       "       [-4.3387184],\n",
       "       [12.702712 ],\n",
       "       [ 5.424484 ]], dtype=float32)"
      ]
     },
     "execution_count": 44,
     "metadata": {},
     "output_type": "execute_result"
    }
   ],
   "source": [
    "model.predict(X_test)[:10]"
   ]
  },
  {
   "cell_type": "code",
   "execution_count": null,
   "metadata": {},
   "outputs": [],
   "source": []
  }
 ],
 "metadata": {
  "kernelspec": {
   "display_name": "Python 3",
   "language": "python",
   "name": "python3"
  },
  "language_info": {
   "codemirror_mode": {
    "name": "ipython",
    "version": 3
   },
   "file_extension": ".py",
   "mimetype": "text/x-python",
   "name": "python",
   "nbconvert_exporter": "python",
   "pygments_lexer": "ipython3",
   "version": "3.7.6"
  }
 },
 "nbformat": 4,
 "nbformat_minor": 4
}
