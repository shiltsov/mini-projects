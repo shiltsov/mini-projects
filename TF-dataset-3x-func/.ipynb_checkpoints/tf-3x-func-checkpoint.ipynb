{
 "cells": [
  {
   "cell_type": "markdown",
   "metadata": {},
   "source": [
    "## Построение модели функции 3х- аргументов через NN\n",
    "\n",
    "    датасеты грузятся через tf.dataset из кучки csv файлов\n",
    "        "
   ]
  },
  {
   "cell_type": "code",
   "execution_count": 1,
   "metadata": {},
   "outputs": [],
   "source": [
    "import pandas as pd\n",
    "import numpy as np\n",
    "import tensorflow as tf\n",
    "from matplotlib import pyplot as plt\n",
    "\n",
    "%matplotlib inline"
   ]
  },
  {
   "cell_type": "markdown",
   "metadata": {},
   "source": [
    "## Создание данных"
   ]
  },
  {
   "cell_type": "code",
   "execution_count": 2,
   "metadata": {},
   "outputs": [
    {
     "name": "stdout",
     "output_type": "stream",
     "text": [
      "x_m: (125000,) y_m: (125000,) z_m (125000,)\n"
     ]
    },
    {
     "data": {
      "text/plain": [
       "(125000,)"
      ]
     },
     "execution_count": 2,
     "metadata": {},
     "output_type": "execute_result"
    }
   ],
   "source": [
    "x = np.linspace(-5, 5, 50) \n",
    "y = np.linspace(-5, 5, 50) \n",
    "z = np.linspace(-5, 5, 50) \n",
    "\n",
    "x_m, y_m, z_m = np.meshgrid(x,y,z)\n",
    "\n",
    "x_m = x_m.reshape(-1)\n",
    "y_m = y_m.reshape(-1)\n",
    "z_m = z_m.reshape(-1)\n",
    "\n",
    "print('x_m:', x_m.shape, 'y_m:', y_m.shape ,'z_m', z_m.shape)\n",
    "f = x_m**2. + 1/(y_m+6.) + x_m*z_m + np.exp(z_m)\n",
    "f.shape"
   ]
  },
  {
   "cell_type": "code",
   "execution_count": 3,
   "metadata": {},
   "outputs": [
    {
     "data": {
      "text/html": [
       "<div>\n",
       "<style scoped>\n",
       "    .dataframe tbody tr th:only-of-type {\n",
       "        vertical-align: middle;\n",
       "    }\n",
       "\n",
       "    .dataframe tbody tr th {\n",
       "        vertical-align: top;\n",
       "    }\n",
       "\n",
       "    .dataframe thead th {\n",
       "        text-align: right;\n",
       "    }\n",
       "</style>\n",
       "<table border=\"1\" class=\"dataframe\">\n",
       "  <thead>\n",
       "    <tr style=\"text-align: right;\">\n",
       "      <th></th>\n",
       "      <th>x</th>\n",
       "      <th>y</th>\n",
       "      <th>z</th>\n",
       "      <th>f</th>\n",
       "    </tr>\n",
       "  </thead>\n",
       "  <tbody>\n",
       "    <tr>\n",
       "      <th>0</th>\n",
       "      <td>-5.0</td>\n",
       "      <td>-5.0</td>\n",
       "      <td>-5.000000</td>\n",
       "      <td>51.006738</td>\n",
       "    </tr>\n",
       "    <tr>\n",
       "      <th>1</th>\n",
       "      <td>-5.0</td>\n",
       "      <td>-5.0</td>\n",
       "      <td>-4.795918</td>\n",
       "      <td>49.987855</td>\n",
       "    </tr>\n",
       "    <tr>\n",
       "      <th>2</th>\n",
       "      <td>-5.0</td>\n",
       "      <td>-5.0</td>\n",
       "      <td>-4.591837</td>\n",
       "      <td>48.969318</td>\n",
       "    </tr>\n",
       "    <tr>\n",
       "      <th>3</th>\n",
       "      <td>-5.0</td>\n",
       "      <td>-5.0</td>\n",
       "      <td>-4.387755</td>\n",
       "      <td>47.951204</td>\n",
       "    </tr>\n",
       "    <tr>\n",
       "      <th>4</th>\n",
       "      <td>-5.0</td>\n",
       "      <td>-5.0</td>\n",
       "      <td>-4.183673</td>\n",
       "      <td>46.933610</td>\n",
       "    </tr>\n",
       "  </tbody>\n",
       "</table>\n",
       "</div>"
      ],
      "text/plain": [
       "     x    y         z          f\n",
       "0 -5.0 -5.0 -5.000000  51.006738\n",
       "1 -5.0 -5.0 -4.795918  49.987855\n",
       "2 -5.0 -5.0 -4.591837  48.969318\n",
       "3 -5.0 -5.0 -4.387755  47.951204\n",
       "4 -5.0 -5.0 -4.183673  46.933610"
      ]
     },
     "execution_count": 3,
     "metadata": {},
     "output_type": "execute_result"
    }
   ],
   "source": [
    "df = pd.DataFrame({'x':x_m, 'y':y_m, 'z':z_m, 'f':f})\n",
    "df.head()"
   ]
  },
  {
   "cell_type": "code",
   "execution_count": 4,
   "metadata": {},
   "outputs": [],
   "source": [
    "df.to_csv('data/train.csv', header=False)"
   ]
  },
  {
   "cell_type": "markdown",
   "metadata": {},
   "source": [
    "датасетик получился очень приличный, 9 Мб. тестовый буду генерить уже как-то отдельно, там не так важно пайпить"
   ]
  },
  {
   "cell_type": "code",
   "execution_count": 5,
   "metadata": {
    "scrolled": false
   },
   "outputs": [],
   "source": [
    "!cd data; split -l 1000 train.csv\n",
    "# !ls -lh data\n",
    "\n",
    "# нужно бить с сохранением строк - он не умеет строку из кусочков собирать\n",
    "# специально делаю мелкие, чтобы понять как он их собирает"
   ]
  },
  {
   "cell_type": "markdown",
   "metadata": {},
   "source": [
    "## Собираем datapipe"
   ]
  },
  {
   "cell_type": "code",
   "execution_count": 6,
   "metadata": {},
   "outputs": [],
   "source": [
    "ds = tf.data.experimental.make_csv_dataset(\n",
    "    'data/x*', 256,\n",
    "    column_names = ['index','x','y','z','f'],\n",
    "    label_name = 'f',\n",
    "    select_columns=['x','y','z','f']\n",
    ").repeat(1).shuffle(10000).cache()"
   ]
  },
  {
   "cell_type": "code",
   "execution_count": 7,
   "metadata": {},
   "outputs": [
    {
     "data": {
      "text/plain": [
       "(odict_keys(['x', 'y', 'z']),\n",
       " array([ 0.8831061, 29.169384 , 10.948548 ,  8.402694 , 30.45867  ,\n",
       "        38.96676  ,  4.6320977,  1.5279404, 13.75216  ,  1.7633439],\n",
       "       dtype=float32))"
      ]
     },
     "execution_count": 7,
     "metadata": {},
     "output_type": "execute_result"
    }
   ],
   "source": [
    "data, label = next(iter(ds.take(1)))\n",
    "data.keys(), label.numpy()[:10]"
   ]
  },
  {
   "cell_type": "code",
   "execution_count": 8,
   "metadata": {},
   "outputs": [],
   "source": [
    "def create_input_layer():\n",
    "    \"\"\"\n",
    "    возвращает функцию, которая работает на бачах\n",
    "    \"\"\"\n",
    "    v = {}\n",
    "    for var in ['x','y','z']:\n",
    "        v[var] = tf.feature_column.numeric_column(var)\n",
    "    return tf.keras.layers.DenseFeatures([v[i] for i in v.keys()])    "
   ]
  },
  {
   "cell_type": "code",
   "execution_count": 9,
   "metadata": {},
   "outputs": [],
   "source": [
    "input_layer = create_input_layer()"
   ]
  },
  {
   "cell_type": "code",
   "execution_count": null,
   "metadata": {},
   "outputs": [],
   "source": [
    "#input_layer(data)"
   ]
  },
  {
   "cell_type": "markdown",
   "metadata": {},
   "source": [
    "## Сначала пробую сделать все через Keras"
   ]
  },
  {
   "cell_type": "code",
   "execution_count": 11,
   "metadata": {},
   "outputs": [
    {
     "name": "stdout",
     "output_type": "stream",
     "text": [
      "Epoch 1/20\n",
      "1500/1500 [==============================] - 39s 26ms/step - loss: 143.2217 - mae: 5.4262 - mse: 143.2217\n",
      "Epoch 2/20\n",
      "1500/1500 [==============================] - 37s 25ms/step - loss: 1.4207 - mae: 0.6661 - mse: 1.4207\n",
      "Epoch 3/20\n",
      "1500/1500 [==============================] - 37s 24ms/step - loss: 0.2652 - mae: 0.3378 - mse: 0.2652\n",
      "Epoch 4/20\n",
      "1500/1500 [==============================] - 34s 23ms/step - loss: 0.1151 - mae: 0.2394 - mse: 0.1151\n",
      "Epoch 5/20\n",
      "1500/1500 [==============================] - 38s 25ms/step - loss: 0.1106 - mae: 0.2153 - mse: 0.1106\n",
      "Epoch 6/20\n",
      "1500/1500 [==============================] - 45s 30ms/step - loss: 0.0594 - mae: 0.1723 - mse: 0.0594\n",
      "Epoch 7/20\n",
      "1500/1500 [==============================] - 42s 28ms/step - loss: 0.0920 - mae: 0.1933 - mse: 0.0920\n",
      "Epoch 8/20\n",
      "1500/1500 [==============================] - 32s 21ms/step - loss: 0.0626 - mae: 0.1582 - mse: 0.0626\n",
      "Epoch 9/20\n",
      "1500/1500 [==============================] - 36s 24ms/step - loss: 0.0645 - mae: 0.1590 - mse: 0.0645\n",
      "Epoch 10/20\n",
      "1500/1500 [==============================] - 48s 32ms/step - loss: 0.0544 - mae: 0.1509 - mse: 0.0544\n",
      "Epoch 11/20\n",
      "1500/1500 [==============================] - 54s 36ms/step - loss: 0.0873 - mae: 0.1665 - mse: 0.0873\n",
      "Epoch 12/20\n",
      "1500/1500 [==============================] - 56s 37ms/step - loss: 0.0401 - mae: 0.1335 - mse: 0.0401\n",
      "Epoch 13/20\n",
      "1500/1500 [==============================] - 50s 33ms/step - loss: 0.0782 - mae: 0.1488 - mse: 0.0782\n",
      "Epoch 14/20\n",
      "1500/1500 [==============================] - 48s 32ms/step - loss: 0.0646 - mae: 0.1391 - mse: 0.0646\n",
      "Epoch 15/20\n",
      "1500/1500 [==============================] - 45s 30ms/step - loss: 0.0700 - mae: 0.1578 - mse: 0.0700\n",
      "Epoch 16/20\n",
      "1500/1500 [==============================] - 49s 33ms/step - loss: 0.0513 - mae: 0.1351 - mse: 0.0513 0s - loss: 0.0519 - mae: 0.1356 \n",
      "Epoch 17/20\n",
      "1500/1500 [==============================] - 49s 32ms/step - loss: 0.0556 - mae: 0.1413 - mse: 0.0556\n",
      "Epoch 18/20\n",
      "1500/1500 [==============================] - 50s 33ms/step - loss: 0.0433 - mae: 0.1240 - mse: 0.0433\n",
      "Epoch 19/20\n",
      "1500/1500 [==============================] - 49s 33ms/step - loss: 0.0553 - mae: 0.1270 - mse: 0.0553\n",
      "Epoch 20/20\n",
      "1500/1500 [==============================] - 49s 33ms/step - loss: 0.0401 - mae: 0.1247 - mse: 0.0401\n"
     ]
    }
   ],
   "source": [
    "model = tf.keras.models.Sequential([\n",
    "    input_layer,\n",
    "    tf.keras.layers.Dense(128, activation='relu'),\n",
    "    tf.keras.layers.Dense(128, activation='relu'),\n",
    "    tf.keras.layers.Dense(1)\n",
    "])\n",
    "\n",
    "optimizer = tf.keras.optimizers.Adam(0.001)\n",
    "\n",
    "model.compile(loss='mse',\n",
    "              optimizer=optimizer,\n",
    "              metrics=['mae', 'mse'])\n",
    "\n",
    "history = model.fit(ds, epochs=20,steps_per_epoch=1500)"
   ]
  },
  {
   "cell_type": "code",
   "execution_count": 12,
   "metadata": {},
   "outputs": [
    {
     "data": {
      "text/plain": [
       "<matplotlib.legend.Legend at 0x7f5444464350>"
      ]
     },
     "execution_count": 12,
     "metadata": {},
     "output_type": "execute_result"
    },
    {
     "data": {
      "image/png": "[encoded data removed]",
      "text/plain": [
       "<Figure size 432x432 with 1 Axes>"
      ]
     },
     "metadata": {
      "needs_background": "light"
     },
     "output_type": "display_data"
    }
   ],
   "source": [
    "plt.figure(figsize=(6,6))\n",
    "plt.plot(history.history['mae'], label='mae')\n",
    "plt.plot(history.history['mse'], label='mse')\n",
    "plt.legend()\n"
   ]
  },
  {
   "cell_type": "code",
   "execution_count": null,
   "metadata": {},
   "outputs": [],
   "source": []
  },
  {
   "cell_type": "markdown",
   "metadata": {},
   "source": [
    "## Пробуем предиктить\n",
    "\n",
    "    сначала маленький тестовый датасет. "
   ]
  },
  {
   "cell_type": "code",
   "execution_count": 13,
   "metadata": {},
   "outputs": [
    {
     "name": "stdout",
     "output_type": "stream",
     "text": [
      "(500,) (500,) (500,)\n"
     ]
    },
    {
     "data": {
      "text/plain": [
       "array([ 51.00673795,  49.98785524,  48.9693179 , ..., 146.72559731,\n",
       "       170.08596835, 198.50406819])"
      ]
     },
     "execution_count": 13,
     "metadata": {},
     "output_type": "execute_result"
    }
   ],
   "source": [
    "x_test = tf.constant(np.random.choice(np.linspace(-5, 5, 5000), 500,  replace=False))\n",
    "y_test = tf.constant(np.random.choice(np.linspace(-5, 5, 5000), 500,  replace=False))\n",
    "z_test = tf.constant(np.random.choice(np.linspace(-5, 5, 5000), 500,  replace=False))\n",
    "\n",
    "f_test = x_test**2. + 1/(y_test+6.) + x_test*z_test + np.exp(z_test)\n",
    "\n",
    "print(x_test.shape, y_test.shape, z_test.shape)\n",
    "f"
   ]
  },
  {
   "cell_type": "code",
   "execution_count": 14,
   "metadata": {},
   "outputs": [],
   "source": [
    "X_test = tf.data.Dataset.from_tensor_slices({'x': x_test, \n",
    "                                             'y': y_test, \n",
    "                                             'z': z_test}).batch(500)\n",
    "##  !!! помнить - нет батча - ничего и не выйдет !!!"
   ]
  },
  {
   "cell_type": "code",
   "execution_count": 15,
   "metadata": {},
   "outputs": [
    {
     "name": "stdout",
     "output_type": "stream",
     "text": [
      "WARNING:tensorflow:Layer dense_features is casting an input tensor from dtype float64 to the layer's dtype of float32, which is new behavior in TensorFlow 2.  The layer has dtype float32 because it's dtype defaults to floatx.\n",
      "\n",
      "If you intended to run this layer in float32, you can safely ignore this warning. If in doubt, this warning is likely only an issue if you are porting a TensorFlow 1.X model to TensorFlow 2.\n",
      "\n",
      "To change all layers to have dtype float64 by default, call `tf.keras.backend.set_floatx('float64')`. To change just this layer, pass dtype='float64' to the layer constructor. If you are the author of this layer, you can disable autocasting by passing autocast=False to the base Layer constructor.\n",
      "\n"
     ]
    },
    {
     "data": {
      "text/plain": [
       "<tf.Tensor: shape=(500, 3), dtype=float32, numpy=\n",
       "array([[ 2.6815362 , -4.0178037 , -1.3132627 ],\n",
       "       [ 2.6275256 ,  3.2076416 ,  4.5459094 ],\n",
       "       [ 2.7235446 ,  3.3736746 ,  1.185237  ],\n",
       "       ...,\n",
       "       [-3.1436288 ,  2.7235446 ,  4.6679335 ],\n",
       "       [ 3.3816764 ,  0.22904581, -4.495899  ],\n",
       "       [-0.19703941, -2.9335868 , -4.8319664 ]], dtype=float32)>"
      ]
     },
     "execution_count": 15,
     "metadata": {},
     "output_type": "execute_result"
    }
   ],
   "source": [
    "batch = next(iter( X_test))\n",
    "input_layer(batch)"
   ]
  },
  {
   "cell_type": "code",
   "execution_count": 16,
   "metadata": {},
   "outputs": [],
   "source": [
    "y_hat = model.predict(X_test)"
   ]
  },
  {
   "cell_type": "code",
   "execution_count": 17,
   "metadata": {},
   "outputs": [
    {
     "name": "stdout",
     "output_type": "stream",
     "text": [
      "MSE: 1588.426025390625, MAE: 24.777408599853516\n"
     ]
    }
   ],
   "source": [
    "mae = tf.keras.losses.MeanAbsoluteError()\n",
    "mse = tf.keras.losses.MeanSquaredError()\n",
    "\n",
    "print('MSE: {}, MAE: {}'.format(mse(y_test, y_hat), mae(y_test, y_hat)))"
   ]
  },
  {
   "cell_type": "markdown",
   "metadata": {},
   "source": [
    "## Теперь аналогичная модельно руками, через GradientTape\n",
    "\n",
    "    конечно суперкрасиво не получится, но это и не нужно"
   ]
  },
  {
   "cell_type": "code",
   "execution_count": 19,
   "metadata": {},
   "outputs": [],
   "source": [
    "class MyNNmodel():\n",
    "    def __init__(self):\n",
    "        # веса модели\n",
    "        self.w0 = tf.Variable(np.random.randn(128,3)*0.1,dtype=tf.float32)\n",
    "        self.b0 = tf.Variable(tf.zeros([128,1], dtype=tf.float32))\n",
    "        self.w1 = tf.Variable(np.random.randn(128,128)*0.1,dtype=tf.float32)\n",
    "        self.b1 = tf.Variable(tf.zeros([128,1], dtype=tf.float32))\n",
    "        self.w2 = tf.Variable(np.random.randn(1,128)*0.1,dtype=tf.float32)\n",
    "        self.b2 = tf.Variable(tf.zeros([1,1], dtype=tf.float32))\n",
    "        \n",
    "    def forward_(self, X):\n",
    "        X = tf.transpose(X)\n",
    "        res = self.w0 @ X + self.b0\n",
    "        res = 1./(1+tf.exp(-res)) # пусть все будет сигмоидой\n",
    "        res = self.w1 @ res + self.b1\n",
    "        res = 1./(1+tf.exp(-res))\n",
    "        res = self.w2 @ res + self.b2\n",
    "        return res\n",
    "    \n",
    "    def mse_loss(self, y, y_hat):\n",
    "        return tf.reduce_mean((y-y_hat)**2)\n",
    "    \n",
    "    def fit(self, dataset, epochs = 10, steps_per_epoch = 1000, lr=0.001):\n",
    "        for epoch in range(epochs):\n",
    "            losses = []\n",
    "            for step, (batch, y) in enumerate(dataset.take(steps_per_epoch)):\n",
    "                # мы должны выдернуть из датасета батч и предикт. и посчитать потери\n",
    "                X = input_layer(batch)\n",
    "                with tf.GradientTape() as tape:\n",
    "                    y_hat = self.forward_(X)\n",
    "                    loss = self.mse_loss(y, tf.squeeze(y_hat))\n",
    "                dw0, db0, dw1, db1, dw2, db2 = tape.gradient(loss, \n",
    "                                    [self.w0, self.b0, self.w1, self.b1, self.w2, self.b2])\n",
    "                losses.append(loss)\n",
    "                for t, g in zip((self.w0, self.b0, self.w1, self.b1, self.w2, self.b2),\n",
    "                                 (dw0, db0, dw1, db1, dw2, db2)):\n",
    "                    t.assign_sub(g*lr)\n",
    "            \n",
    "            print('epoch: {} mse_loss {}'.format(epoch, np.mean(loss)))\n",
    "        return losses\n",
    "    def predict(self,dataset):\n",
    "        return self.forward_(dataset)\n",
    "    "
   ]
  },
  {
   "cell_type": "code",
   "execution_count": 20,
   "metadata": {},
   "outputs": [
    {
     "name": "stdout",
     "output_type": "stream",
     "text": [
      "epoch: 0 mse_loss 108.4256362915039\n",
      "epoch: 1 mse_loss 110.18960571289062\n",
      "epoch: 2 mse_loss 38.852012634277344\n",
      "epoch: 3 mse_loss 15.917581558227539\n",
      "epoch: 4 mse_loss 6.360286235809326\n",
      "epoch: 5 mse_loss 4.725956916809082\n",
      "epoch: 6 mse_loss 3.3328864574432373\n",
      "epoch: 7 mse_loss 51.20990753173828\n",
      "epoch: 8 mse_loss 5.943907260894775\n",
      "epoch: 9 mse_loss 1.5656733512878418\n"
     ]
    }
   ],
   "source": [
    "my_model = MyNNmodel()\n",
    "losses = my_model.fit(ds)"
   ]
  },
  {
   "cell_type": "code",
   "execution_count": 21,
   "metadata": {},
   "outputs": [
    {
     "data": {
      "text/plain": [
       "[<matplotlib.lines.Line2D at 0x7f54246a0710>]"
      ]
     },
     "execution_count": 21,
     "metadata": {},
     "output_type": "execute_result"
    },
    {
     "data": {
      "image/png": "[encoded data removed]",
      "text/plain": [
       "<Figure size 432x432 with 1 Axes>"
      ]
     },
     "metadata": {
      "needs_background": "light"
     },
     "output_type": "display_data"
    }
   ],
   "source": [
    "plt.figure(figsize=(6,6))\n",
    "plt.plot(losses)"
   ]
  },
  {
   "cell_type": "code",
   "execution_count": 22,
   "metadata": {},
   "outputs": [],
   "source": [
    "y_hat = my_model.predict(input_layer(batch))"
   ]
  },
  {
   "cell_type": "code",
   "execution_count": 23,
   "metadata": {},
   "outputs": [
    {
     "name": "stdout",
     "output_type": "stream",
     "text": [
      "MSE: 1564.62548828125, MAE: 24.447294235229492\n"
     ]
    }
   ],
   "source": [
    "mae = tf.keras.losses.MeanAbsoluteError()\n",
    "mse = tf.keras.losses.MeanSquaredError()\n",
    "\n",
    "print('MSE: {}, MAE: {}'.format(mse(y_test, y_hat), mae(y_test, y_hat)))"
   ]
  },
  {
   "cell_type": "code",
   "execution_count": null,
   "metadata": {},
   "outputs": [],
   "source": []
  }
 ],
 "metadata": {
  "kernelspec": {
   "display_name": "Python 3",
   "language": "python",
   "name": "python3"
  },
  "language_info": {
   "codemirror_mode": {
    "name": "ipython",
    "version": 3
   },
   "file_extension": ".py",
   "mimetype": "text/x-python",
   "name": "python",
   "nbconvert_exporter": "python",
   "pygments_lexer": "ipython3",
   "version": "3.7.6"
  }
 },
 "nbformat": 4,
 "nbformat_minor": 4
}
