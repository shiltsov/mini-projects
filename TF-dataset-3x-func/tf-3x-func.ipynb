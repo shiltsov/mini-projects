{
 "cells": [
  {
   "cell_type": "markdown",
   "metadata": {},
   "source": [
    "## Построение модели функции 3х- аргументов через NN\n",
    "\n",
    "    датасеты грузятся через tf.dataset из кучки csv файлов\n",
    "        "
   ]
  },
  {
   "cell_type": "code",
   "execution_count": 39,
   "metadata": {},
   "outputs": [],
   "source": [
    "import pandas as pd\n",
    "import numpy as np\n",
    "import tensorflow as tf\n",
    "from matplotlib import pyplot as plt\n",
    "from tensorflow.keras.callbacks import TensorBoard\n",
    "\n",
    "%matplotlib inline"
   ]
  },
  {
   "cell_type": "markdown",
   "metadata": {},
   "source": [
    "## Создание данных"
   ]
  },
  {
   "cell_type": "code",
   "execution_count": 40,
   "metadata": {},
   "outputs": [
    {
     "name": "stdout",
     "output_type": "stream",
     "text": [
      "x_m: (125000,) y_m: (125000,) z_m (125000,)\n"
     ]
    },
    {
     "data": {
      "text/plain": [
       "(125000,)"
      ]
     },
     "execution_count": 40,
     "metadata": {},
     "output_type": "execute_result"
    }
   ],
   "source": [
    "x = np.linspace(-5, 5, 50) \n",
    "y = np.linspace(-5, 5, 50) \n",
    "z = np.linspace(-5, 5, 50) \n",
    "\n",
    "x_m, y_m, z_m = np.meshgrid(x,y,z)\n",
    "\n",
    "x_m = x_m.reshape(-1)\n",
    "y_m = y_m.reshape(-1)\n",
    "z_m = z_m.reshape(-1)\n",
    "\n",
    "print('x_m:', x_m.shape, 'y_m:', y_m.shape ,'z_m', z_m.shape)\n",
    "f = x_m**2. + 1/(y_m+6.) + x_m*z_m + np.exp(z_m)\n",
    "f.shape"
   ]
  },
  {
   "cell_type": "code",
   "execution_count": 41,
   "metadata": {},
   "outputs": [
    {
     "data": {
      "text/html": [
       "<div>\n",
       "<style scoped>\n",
       "    .dataframe tbody tr th:only-of-type {\n",
       "        vertical-align: middle;\n",
       "    }\n",
       "\n",
       "    .dataframe tbody tr th {\n",
       "        vertical-align: top;\n",
       "    }\n",
       "\n",
       "    .dataframe thead th {\n",
       "        text-align: right;\n",
       "    }\n",
       "</style>\n",
       "<table border=\"1\" class=\"dataframe\">\n",
       "  <thead>\n",
       "    <tr style=\"text-align: right;\">\n",
       "      <th></th>\n",
       "      <th>x</th>\n",
       "      <th>y</th>\n",
       "      <th>z</th>\n",
       "      <th>f</th>\n",
       "    </tr>\n",
       "  </thead>\n",
       "  <tbody>\n",
       "    <tr>\n",
       "      <th>0</th>\n",
       "      <td>-5.0</td>\n",
       "      <td>-5.0</td>\n",
       "      <td>-5.000000</td>\n",
       "      <td>51.006738</td>\n",
       "    </tr>\n",
       "    <tr>\n",
       "      <th>1</th>\n",
       "      <td>-5.0</td>\n",
       "      <td>-5.0</td>\n",
       "      <td>-4.795918</td>\n",
       "      <td>49.987855</td>\n",
       "    </tr>\n",
       "    <tr>\n",
       "      <th>2</th>\n",
       "      <td>-5.0</td>\n",
       "      <td>-5.0</td>\n",
       "      <td>-4.591837</td>\n",
       "      <td>48.969318</td>\n",
       "    </tr>\n",
       "    <tr>\n",
       "      <th>3</th>\n",
       "      <td>-5.0</td>\n",
       "      <td>-5.0</td>\n",
       "      <td>-4.387755</td>\n",
       "      <td>47.951204</td>\n",
       "    </tr>\n",
       "    <tr>\n",
       "      <th>4</th>\n",
       "      <td>-5.0</td>\n",
       "      <td>-5.0</td>\n",
       "      <td>-4.183673</td>\n",
       "      <td>46.933610</td>\n",
       "    </tr>\n",
       "  </tbody>\n",
       "</table>\n",
       "</div>"
      ],
      "text/plain": [
       "     x    y         z          f\n",
       "0 -5.0 -5.0 -5.000000  51.006738\n",
       "1 -5.0 -5.0 -4.795918  49.987855\n",
       "2 -5.0 -5.0 -4.591837  48.969318\n",
       "3 -5.0 -5.0 -4.387755  47.951204\n",
       "4 -5.0 -5.0 -4.183673  46.933610"
      ]
     },
     "execution_count": 41,
     "metadata": {},
     "output_type": "execute_result"
    }
   ],
   "source": [
    "df = pd.DataFrame({'x':x_m, 'y':y_m, 'z':z_m, 'f':f})\n",
    "df.head()"
   ]
  },
  {
   "cell_type": "code",
   "execution_count": 42,
   "metadata": {},
   "outputs": [],
   "source": [
    "df.to_csv('data/train.csv', header=False)"
   ]
  },
  {
   "cell_type": "markdown",
   "metadata": {},
   "source": [
    "датасетик получился очень приличный, 9 Мб. тестовый буду генерить уже как-то отдельно, там не так важно пайпить"
   ]
  },
  {
   "cell_type": "code",
   "execution_count": 43,
   "metadata": {
    "scrolled": false
   },
   "outputs": [],
   "source": [
    "!cd data; split -l 1000 train.csv\n",
    "# !ls -lh data\n",
    "\n",
    "# нужно бить с сохранением строк - он не умеет строку из кусочков собирать\n",
    "# специально делаю мелкие, чтобы понять как он их собирает"
   ]
  },
  {
   "cell_type": "markdown",
   "metadata": {},
   "source": [
    "## Собираем datapipe"
   ]
  },
  {
   "cell_type": "code",
   "execution_count": 44,
   "metadata": {},
   "outputs": [],
   "source": [
    "ds = tf.data.experimental.make_csv_dataset(\n",
    "    'data/x*', 256,\n",
    "    column_names = ['index','x','y','z','f'],\n",
    "    label_name = 'f',\n",
    "    select_columns=['x','y','z','f']\n",
    ").repeat(1).shuffle(1000).cache()"
   ]
  },
  {
   "cell_type": "code",
   "execution_count": 45,
   "metadata": {},
   "outputs": [
    {
     "data": {
      "text/plain": [
       "(odict_keys(['x', 'y', 'z']),\n",
       " array([  2.051616 ,  20.450697 ,  25.52928  ,  21.777939 ,  -4.913767 ,\n",
       "         12.462794 ,   7.476358 , 106.66289  ,   2.6765876,  23.101578 ],\n",
       "       dtype=float32))"
      ]
     },
     "execution_count": 45,
     "metadata": {},
     "output_type": "execute_result"
    }
   ],
   "source": [
    "data, label = next(iter(ds.take(1)))\n",
    "data.keys(), label.numpy()[:10]"
   ]
  },
  {
   "cell_type": "code",
   "execution_count": 46,
   "metadata": {},
   "outputs": [],
   "source": [
    "def create_input_layer():\n",
    "    \"\"\"\n",
    "    возвращает функцию, которая работает на бачах\n",
    "    \"\"\"\n",
    "    v = {}\n",
    "    for var in ['x','y','z']:\n",
    "        v[var] = tf.feature_column.numeric_column(var)\n",
    "    return tf.keras.layers.DenseFeatures([v[i] for i in v.keys()])    "
   ]
  },
  {
   "cell_type": "code",
   "execution_count": 47,
   "metadata": {},
   "outputs": [],
   "source": [
    "input_layer = create_input_layer()"
   ]
  },
  {
   "cell_type": "code",
   "execution_count": 48,
   "metadata": {},
   "outputs": [],
   "source": [
    "#input_layer(data)"
   ]
  },
  {
   "cell_type": "markdown",
   "metadata": {},
   "source": [
    "## Сначала пробую сделать все через Keras"
   ]
  },
  {
   "cell_type": "code",
   "execution_count": 62,
   "metadata": {},
   "outputs": [
    {
     "name": "stdout",
     "output_type": "stream",
     "text": [
      "Epoch 1/10\n",
      "500/500 [==============================] - 9s 19ms/step - loss: 370.4525 - mae: 10.8456 - mse: 370.4525 - rmse: 17.5870\n",
      "Epoch 2/10\n",
      "500/500 [==============================] - 9s 18ms/step - loss: 42.5127 - mae: 3.2885 - mse: 42.5127 - rmse: 6.2203\n",
      "Epoch 3/10\n",
      "500/500 [==============================] - 9s 17ms/step - loss: 7.1822 - mae: 1.3654 - mse: 7.1822 - rmse: 2.6005\n",
      "Epoch 4/10\n",
      "500/500 [==============================] - 9s 18ms/step - loss: 2.1743 - mae: 0.7839 - mse: 2.1743 - rmse: 1.4460\n",
      "Epoch 5/10\n",
      "500/500 [==============================] - 9s 17ms/step - loss: 0.9111 - mae: 0.5425 - mse: 0.9111 - rmse: 0.9415\n",
      "Epoch 6/10\n",
      "500/500 [==============================] - 9s 18ms/step - loss: 0.4795 - mae: 0.4192 - mse: 0.4795 - rmse: 0.6846\n",
      "Epoch 7/10\n",
      "500/500 [==============================] - 9s 18ms/step - loss: 0.2920 - mae: 0.3403 - mse: 0.2920 - rmse: 0.5336\n",
      "Epoch 8/10\n",
      "500/500 [==============================] - 9s 17ms/step - loss: 0.2013 - mae: 0.2834 - mse: 0.2013 - rmse: 0.4413\n",
      "Epoch 9/10\n",
      "500/500 [==============================] - 9s 18ms/step - loss: 0.1436 - mae: 0.2435 - mse: 0.1436 - rmse: 0.3695\n",
      "Epoch 10/10\n",
      "500/500 [==============================] - 9s 18ms/step - loss: 0.0919 - mae: 0.2023 - mse: 0.0919 - rmse: 0.2979\n"
     ]
    }
   ],
   "source": [
    "model = tf.keras.models.Sequential([\n",
    "    input_layer,\n",
    "    tf.keras.layers.Dense(128, activation='relu', name='l1'),\n",
    "    tf.keras.layers.Dense(128, activation='relu', name='l1'),\n",
    "    tf.keras.layers.Dense(1, activation='linear', name='l3')\n",
    "])\n",
    "\n",
    "\n",
    "def rmse(y_true, y_pred):\n",
    "    return tf.sqrt(tf.reduce_mean(tf.square(y_true-y_pred)))\n",
    "\n",
    "optimizer = tf.keras.optimizers.Adam(0.001)\n",
    "\n",
    "model.compile(loss='mse',\n",
    "              optimizer=optimizer,\n",
    "              metrics=['mae', 'mse', rmse])\n",
    "\n",
    "history = model.fit(ds, epochs=10,steps_per_epoch=500, callbacks=[TensorBoard('./tboard')])"
   ]
  },
  {
   "cell_type": "code",
   "execution_count": 57,
   "metadata": {},
   "outputs": [
    {
     "data": {
      "text/plain": [
       "<matplotlib.legend.Legend at 0x7f05755f62d0>"
      ]
     },
     "execution_count": 57,
     "metadata": {},
     "output_type": "execute_result"
    },
    {
     "data": {
      "image/png": "[encoded data removed]",
      "text/plain": [
       "<Figure size 432x432 with 1 Axes>"
      ]
     },
     "metadata": {
      "needs_background": "light"
     },
     "output_type": "display_data"
    }
   ],
   "source": [
    "plt.figure(figsize=(6,6))\n",
    "plt.plot(history.history['mae'], label='mae')\n",
    "plt.plot(history.history['mse'], label='mse')\n",
    "plt.legend()\n"
   ]
  },
  {
   "cell_type": "code",
   "execution_count": 58,
   "metadata": {},
   "outputs": [
    {
     "name": "stdout",
     "output_type": "stream",
     "text": [
      "The tensorboard extension is already loaded. To reload it, use:\n",
      "  %reload_ext tensorboard\n"
     ]
    },
    {
     "data": {
      "text/plain": [
       "Reusing TensorBoard on port 6006 (pid 8633), started 2:14:43 ago. (Use '!kill 8633' to kill it.)"
      ]
     },
     "metadata": {},
     "output_type": "display_data"
    },
    {
     "data": {
      "text/html": [
       "\n",
       "      <iframe id=\"tensorboard-frame-f5d163022d41dd45\" width=\"100%\" height=\"800\" frameborder=\"0\">\n",
       "      </iframe>\n",
       "      <script>\n",
       "        (function() {\n",
       "          const frame = document.getElementById(\"tensorboard-frame-f5d163022d41dd45\");\n",
       "          const url = new URL(\"/\", window.location);\n",
       "          url.port = 6006;\n",
       "          frame.src = url;\n",
       "        })();\n",
       "      </script>\n",
       "  "
      ],
      "text/plain": [
       "<IPython.core.display.HTML object>"
      ]
     },
     "metadata": {},
     "output_type": "display_data"
    }
   ],
   "source": [
    "%load_ext tensorboard\n",
    "%tensorboard --logdir ./tboard\n"
   ]
  },
  {
   "cell_type": "code",
   "execution_count": 66,
   "metadata": {},
   "outputs": [
    {
     "name": "stdout",
     "output_type": "stream",
     "text": [
      "INFO:tensorflow:Assets written to: ./mymodel/assets\n"
     ]
    }
   ],
   "source": [
    "model.save('./mymodel')"
   ]
  },
  {
   "cell_type": "markdown",
   "metadata": {},
   "source": [
    "## Пробуем предиктить\n",
    "\n",
    "    сначала маленький тестовый датасет. "
   ]
  },
  {
   "cell_type": "code",
   "execution_count": 98,
   "metadata": {},
   "outputs": [
    {
     "name": "stdout",
     "output_type": "stream",
     "text": [
      "(500,) (500,) (500,)\n"
     ]
    },
    {
     "data": {
      "text/plain": [
       "<tf.Tensor: shape=(5,), dtype=float64, numpy=array([10.47000101, -1.70921092, 24.44808385, -1.85306285, 14.22969327])>"
      ]
     },
     "execution_count": 98,
     "metadata": {},
     "output_type": "execute_result"
    }
   ],
   "source": [
    "x_test = tf.constant(np.random.choice(np.linspace(-5, 5, 5000), 500,  replace=False))\n",
    "y_test = tf.constant(np.random.choice(np.linspace(-5, 5, 5000), 500,  replace=False))\n",
    "z_test = tf.constant(np.random.choice(np.linspace(-5, 5, 5000), 500,  replace=False))\n",
    "\n",
    "f_test = x_test**2. + 1/(y_test+6.) + x_test*z_test + np.exp(z_test)\n",
    "\n",
    "print(x_test.shape, y_test.shape, z_test.shape)\n",
    "f_test[:5]"
   ]
  },
  {
   "cell_type": "code",
   "execution_count": 99,
   "metadata": {},
   "outputs": [],
   "source": [
    "X_test = tf.data.Dataset.from_tensor_slices({'x': x_test, \n",
    "                                             'y': y_test, \n",
    "                                             'z': z_test}).batch(500)\n",
    "##  !!! помнить - нет батча - ничего и не выйдет !!!"
   ]
  },
  {
   "cell_type": "code",
   "execution_count": 100,
   "metadata": {},
   "outputs": [
    {
     "data": {
      "text/plain": [
       "<tf.Tensor: shape=(500, 3), dtype=float32, numpy=\n",
       "array([[ 2.5735147 ,  2.475495  ,  0.68113625],\n",
       "       [ 0.4530906 ,  2.6875374 , -4.503901  ],\n",
       "       [ 4.7579517 ,  1.7493498 ,  0.1170234 ],\n",
       "       ...,\n",
       "       [-3.3636727 , -0.705141  , -3.5017004 ],\n",
       "       [ 2.7275455 , -0.3410682 ,  2.5335066 ],\n",
       "       [ 2.2934587 ,  4.883977  ,  2.529506  ]], dtype=float32)>"
      ]
     },
     "execution_count": 100,
     "metadata": {},
     "output_type": "execute_result"
    }
   ],
   "source": [
    "batch = next(iter( X_test))\n",
    "input_layer(batch)"
   ]
  },
  {
   "cell_type": "code",
   "execution_count": 101,
   "metadata": {},
   "outputs": [
    {
     "data": {
      "text/plain": [
       "array([[10.569707 ],\n",
       "       [-2.0294213],\n",
       "       [24.312971 ],\n",
       "       [-1.9053271],\n",
       "       [14.647212 ],\n",
       "       [ 4.286048 ],\n",
       "       [16.429163 ],\n",
       "       [15.414293 ],\n",
       "       [66.23667  ],\n",
       "       [ 9.027123 ]], dtype=float32)"
      ]
     },
     "execution_count": 101,
     "metadata": {},
     "output_type": "execute_result"
    }
   ],
   "source": [
    "y_hat = model.predict(X_test)\n",
    "y_hat[:10]"
   ]
  },
  {
   "cell_type": "code",
   "execution_count": 17,
   "metadata": {},
   "outputs": [
    {
     "name": "stdout",
     "output_type": "stream",
     "text": [
      "MSE: 1588.426025390625, MAE: 24.777408599853516\n"
     ]
    }
   ],
   "source": [
    "mae = tf.keras.losses.MeanAbsoluteError()\n",
    "mse = tf.keras.losses.MeanSquaredError()\n",
    "\n",
    "print('MSE: {}, MAE: {}'.format(mse(y_test, y_hat), mae(y_test, y_hat)))"
   ]
  },
  {
   "cell_type": "markdown",
   "metadata": {},
   "source": [
    "## Теперь аналогичная модельно руками, через GradientTape\n",
    "\n",
    "    конечно суперкрасиво не получится, но это и не нужно"
   ]
  },
  {
   "cell_type": "code",
   "execution_count": 19,
   "metadata": {},
   "outputs": [],
   "source": [
    "class MyNNmodel():\n",
    "    def __init__(self):\n",
    "        # веса модели\n",
    "        self.w0 = tf.Variable(np.random.randn(128,3)*0.1,dtype=tf.float32)\n",
    "        self.b0 = tf.Variable(tf.zeros([128,1], dtype=tf.float32))\n",
    "        self.w1 = tf.Variable(np.random.randn(128,128)*0.1,dtype=tf.float32)\n",
    "        self.b1 = tf.Variable(tf.zeros([128,1], dtype=tf.float32))\n",
    "        self.w2 = tf.Variable(np.random.randn(1,128)*0.1,dtype=tf.float32)\n",
    "        self.b2 = tf.Variable(tf.zeros([1,1], dtype=tf.float32))\n",
    "        \n",
    "    def forward_(self, X):\n",
    "        X = tf.transpose(X)\n",
    "        res = self.w0 @ X + self.b0\n",
    "        res = 1./(1+tf.exp(-res)) # пусть все будет сигмоидой\n",
    "        res = self.w1 @ res + self.b1\n",
    "        res = 1./(1+tf.exp(-res))\n",
    "        res = self.w2 @ res + self.b2\n",
    "        return res\n",
    "    \n",
    "    def mse_loss(self, y, y_hat):\n",
    "        return tf.reduce_mean((y-y_hat)**2)\n",
    "    \n",
    "    def fit(self, dataset, epochs = 10, steps_per_epoch = 1000, lr=0.001):\n",
    "        for epoch in range(epochs):\n",
    "            losses = []\n",
    "            for step, (batch, y) in enumerate(dataset.take(steps_per_epoch)):\n",
    "                # мы должны выдернуть из датасета батч и предикт. и посчитать потери\n",
    "                X = input_layer(batch)\n",
    "                with tf.GradientTape() as tape:\n",
    "                    y_hat = self.forward_(X)\n",
    "                    loss = self.mse_loss(y, tf.squeeze(y_hat))\n",
    "                dw0, db0, dw1, db1, dw2, db2 = tape.gradient(loss, \n",
    "                                    [self.w0, self.b0, self.w1, self.b1, self.w2, self.b2])\n",
    "                losses.append(loss)\n",
    "                for t, g in zip((self.w0, self.b0, self.w1, self.b1, self.w2, self.b2),\n",
    "                                 (dw0, db0, dw1, db1, dw2, db2)):\n",
    "                    t.assign_sub(g*lr)\n",
    "            \n",
    "            print('epoch: {} mse_loss {}'.format(epoch, np.mean(loss)))\n",
    "        return losses\n",
    "    def predict(self,dataset):\n",
    "        return self.forward_(dataset)\n",
    "    "
   ]
  },
  {
   "cell_type": "code",
   "execution_count": 20,
   "metadata": {},
   "outputs": [
    {
     "name": "stdout",
     "output_type": "stream",
     "text": [
      "epoch: 0 mse_loss 108.4256362915039\n",
      "epoch: 1 mse_loss 110.18960571289062\n",
      "epoch: 2 mse_loss 38.852012634277344\n",
      "epoch: 3 mse_loss 15.917581558227539\n",
      "epoch: 4 mse_loss 6.360286235809326\n",
      "epoch: 5 mse_loss 4.725956916809082\n",
      "epoch: 6 mse_loss 3.3328864574432373\n",
      "epoch: 7 mse_loss 51.20990753173828\n",
      "epoch: 8 mse_loss 5.943907260894775\n",
      "epoch: 9 mse_loss 1.5656733512878418\n"
     ]
    }
   ],
   "source": [
    "my_model = MyNNmodel()\n",
    "losses = my_model.fit(ds)"
   ]
  },
  {
   "cell_type": "code",
   "execution_count": 21,
   "metadata": {},
   "outputs": [
    {
     "data": {
      "text/plain": [
       "[<matplotlib.lines.Line2D at 0x7f54246a0710>]"
      ]
     },
     "execution_count": 21,
     "metadata": {},
     "output_type": "execute_result"
    },
    {
     "data": {
      "image/png": "[encoded data removed]",
      "text/plain": [
       "<Figure size 432x432 with 1 Axes>"
      ]
     },
     "metadata": {
      "needs_background": "light"
     },
     "output_type": "display_data"
    }
   ],
   "source": [
    "plt.figure(figsize=(6,6))\n",
    "plt.plot(losses)"
   ]
  },
  {
   "cell_type": "code",
   "execution_count": 22,
   "metadata": {},
   "outputs": [],
   "source": [
    "y_hat = my_model.predict(input_layer(batch))"
   ]
  },
  {
   "cell_type": "code",
   "execution_count": 23,
   "metadata": {},
   "outputs": [
    {
     "name": "stdout",
     "output_type": "stream",
     "text": [
      "MSE: 1564.62548828125, MAE: 24.447294235229492\n"
     ]
    }
   ],
   "source": [
    "mae = tf.keras.losses.MeanAbsoluteError()\n",
    "mse = tf.keras.losses.MeanSquaredError()\n",
    "\n",
    "print('MSE: {}, MAE: {}'.format(mse(y_test, y_hat), mae(y_test, y_hat)))"
   ]
  },
  {
   "cell_type": "code",
   "execution_count": null,
   "metadata": {},
   "outputs": [],
   "source": []
  }
 ],
 "metadata": {
  "kernelspec": {
   "display_name": "Python 3",
   "language": "python",
   "name": "python3"
  },
  "language_info": {
   "codemirror_mode": {
    "name": "ipython",
    "version": 3
   },
   "file_extension": ".py",
   "mimetype": "text/x-python",
   "name": "python",
   "nbconvert_exporter": "python",
   "pygments_lexer": "ipython3",
   "version": "3.7.6"
  }
 },
 "nbformat": 4,
 "nbformat_minor": 4
}
