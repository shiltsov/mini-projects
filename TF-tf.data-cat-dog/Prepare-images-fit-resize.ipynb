{
 "cells": [
  {
   "cell_type": "code",
   "execution_count": 2,
   "metadata": {},
   "outputs": [],
   "source": [
    "import h5py\n",
    "import numpy as np\n",
    "from matplotlib import pyplot as plt\n",
    "from skimage import data, io, filters, util, color\n",
    "from skimage.transform import rescale, resize, downscale_local_mean\n",
    "from skimage import img_as_ubyte\n",
    "\n",
    "import os"
   ]
  },
  {
   "cell_type": "markdown",
   "metadata": {},
   "source": [
    "## Задача 1 - подготовка массивов с изображениями\n",
    "\n",
    "есть по 25 000 изображений котиков-песиков. Делаем 2200х2 трейн и 300х2 тест\n",
    "картинки выравниваем, загружаем в массивы и сохраняем в h5 файлы"
   ]
  },
  {
   "cell_type": "code",
   "execution_count": 3,
   "metadata": {},
   "outputs": [],
   "source": [
    "base_dir = '/home/sda/STUDY/mini-projects/TF-tf.data-cat-dog/data/images'\n",
    "\n",
    "try:\n",
    "    os.mkdir(os.path.join(base_dir, '0_ok'))\n",
    "    os.mkdir(os.path.join(base_dir, '1_ok'))\n",
    "except:\n",
    "    pass"
   ]
  },
  {
   "cell_type": "code",
   "execution_count": 4,
   "metadata": {},
   "outputs": [],
   "source": [
    "# 1. нужно прочистить картинки, удалить битые, удалить слишком мелкие, если все ок - \n",
    "# вернуть ресайз\n",
    "resize_box = 128\n",
    "\n",
    "def prepare_image(src_file, dst_file, min_pix = 128, resize_box = 128):\n",
    "    try:\n",
    "        image = io.imread(os.path.join(base_dir, src_file))\n",
    "        \n",
    "        # проверка минимальной пиксельности по осям\n",
    "        if min(image.shape[:2]) < min_pix:\n",
    "            return False\n",
    "        \n",
    "        # правильности цвета\n",
    "        if image.shape[2] != 3:\n",
    "            return False\n",
    "        \n",
    "        \n",
    "        # ресайз - на выходе хотим получать квадратики resize_box на resize_box\n",
    "        image_resized = resize(image, \n",
    "                              (int((image.shape[0] * resize_box) / min(image.shape[:2])), \n",
    "                               int((image.shape[1] * resize_box) / min(image.shape[:2]))))\n",
    "        \n",
    "        # теперь нужно сделать центрированный срез\n",
    "        if image_resized.shape[0] != resize_box:\n",
    "            x_min = (image_resized.shape[0] - resize_box) // 2\n",
    "            x_max = x_min + resize_box \n",
    "        else:\n",
    "            x_min = 0\n",
    "            x_max = resize_box + 1\n",
    "        \n",
    "        if image_resized.shape[1] != resize_box:\n",
    "            y_min = (image_resized.shape[1] - resize_box) // 2\n",
    "            y_max = y_min + resize_box \n",
    "        else:\n",
    "            y_min = 0\n",
    "            y_max = resize_box + 1\n",
    "        \n",
    "        image_cropped = image_resized[x_min:x_max,y_min:y_max, :]\n",
    "        \n",
    "        if image_cropped.shape != (resize_box,resize_box,3):\n",
    "            print(image.shape, image_resized.shape, image_cropped.shape, \n",
    "                  src_file, (x_min, x_max, y_min, y_max) )\n",
    "            return False\n",
    "        \n",
    "        # img_as_ubyte - правильно конвертит в целые\n",
    "        io.imsave(os.path.join(base_dir, dst_file), img_as_ubyte(image_cropped))\n",
    "        return True\n",
    "    except:    \n",
    "        return False"
   ]
  },
  {
   "cell_type": "code",
   "execution_count": 4,
   "metadata": {},
   "outputs": [],
   "source": [
    "#prepare_image(os.path.join(base_dir, '11555.jpg'),\n",
    "#             os.path.join(base_dir, '11555_small.jpg'), min_pix = 200, resize_box = 250)"
   ]
  },
  {
   "cell_type": "code",
   "execution_count": 5,
   "metadata": {
    "scrolled": false
   },
   "outputs": [
    {
     "name": "stderr",
     "output_type": "stream",
     "text": [
      "/home/sda/anaconda3/lib/python3.7/site-packages/PIL/TiffImagePlugin.py:770: UserWarning: Possibly corrupt EXIF data.  Expecting to read 32 bytes but only got 0. Skipping tag 270\n",
      "  \" Skipping tag %s\" % (size, len(data), tag)\n",
      "/home/sda/anaconda3/lib/python3.7/site-packages/PIL/TiffImagePlugin.py:770: UserWarning: Possibly corrupt EXIF data.  Expecting to read 5 bytes but only got 0. Skipping tag 271\n",
      "  \" Skipping tag %s\" % (size, len(data), tag)\n",
      "/home/sda/anaconda3/lib/python3.7/site-packages/PIL/TiffImagePlugin.py:770: UserWarning: Possibly corrupt EXIF data.  Expecting to read 8 bytes but only got 0. Skipping tag 272\n",
      "  \" Skipping tag %s\" % (size, len(data), tag)\n",
      "/home/sda/anaconda3/lib/python3.7/site-packages/PIL/TiffImagePlugin.py:770: UserWarning: Possibly corrupt EXIF data.  Expecting to read 8 bytes but only got 0. Skipping tag 282\n",
      "  \" Skipping tag %s\" % (size, len(data), tag)\n",
      "/home/sda/anaconda3/lib/python3.7/site-packages/PIL/TiffImagePlugin.py:770: UserWarning: Possibly corrupt EXIF data.  Expecting to read 8 bytes but only got 0. Skipping tag 283\n",
      "  \" Skipping tag %s\" % (size, len(data), tag)\n",
      "/home/sda/anaconda3/lib/python3.7/site-packages/PIL/TiffImagePlugin.py:770: UserWarning: Possibly corrupt EXIF data.  Expecting to read 20 bytes but only got 0. Skipping tag 306\n",
      "  \" Skipping tag %s\" % (size, len(data), tag)\n",
      "/home/sda/anaconda3/lib/python3.7/site-packages/PIL/TiffImagePlugin.py:770: UserWarning: Possibly corrupt EXIF data.  Expecting to read 48 bytes but only got 0. Skipping tag 532\n",
      "  \" Skipping tag %s\" % (size, len(data), tag)\n",
      "/home/sda/anaconda3/lib/python3.7/site-packages/PIL/TiffImagePlugin.py:788: UserWarning: Corrupt EXIF data.  Expecting to read 2 bytes but only got 0. \n",
      "  warnings.warn(str(msg))\n"
     ]
    }
   ],
   "source": [
    "# сначала перегоняю все картинки в 0_ok и 1_ок (если перегоняются конечно)\n",
    "for d in ['0', '1']:\n",
    "    for file in os.listdir(os.path.join(base_dir, d)):\n",
    "        src_file = os.path.join(base_dir, d, file)\n",
    "        dst_file = os.path.join(base_dir, d + '_ok', file)\n",
    "        prepare_image(src_file, dst_file)\n"
   ]
  },
  {
   "cell_type": "code",
   "execution_count": 6,
   "metadata": {},
   "outputs": [
    {
     "name": "stdout",
     "output_type": "stream",
     "text": [
      "12206 12219\n"
     ]
    }
   ],
   "source": [
    "# дальше нужно собрать все картики в массив по именам и сделать разбивку на сеты.\n",
    "# потом по разбитым сетам сделать numpy массивы [n_pic, x_pix, y_pix,color]\n",
    "test_size = 300\n",
    "n_0 = len(os.listdir(os.path.join(base_dir, '0_ok')))\n",
    "n_1 = len(os.listdir(os.path.join(base_dir, '1_ok')))          \n",
    "print(n_0, n_1)\n",
    "\n",
    "try:\n",
    "    os.mkdir(os.path.join(base_dir, 'train'))\n",
    "    os.mkdir(os.path.join(base_dir, 'test'))\n",
    "    os.mkdir(os.path.join(base_dir, 'train/0'))\n",
    "    os.mkdir(os.path.join(base_dir, 'train/1'))\n",
    "    os.mkdir(os.path.join(base_dir, 'test/0'))\n",
    "    os.mkdir(os.path.join(base_dir, 'test/1'))    \n",
    "except:\n",
    "    pass"
   ]
  },
  {
   "cell_type": "code",
   "execution_count": 7,
   "metadata": {},
   "outputs": [
    {
     "name": "stdout",
     "output_type": "stream",
     "text": [
      "12206\n",
      "12219\n"
     ]
    }
   ],
   "source": [
    "# раскладываем по папкам train и test\n",
    "for i in ['0', '1']:\n",
    "    names = list(os.listdir(os.path.join(base_dir, i + '_ok')))\n",
    "    print(len(names))\n",
    "    for name in names[:test_size]:\n",
    "        os.rename(os.path.join(base_dir, i + '_ok', name), \n",
    "                  os.path.join(base_dir, 'test', i, name))\n",
    "    for name in names[test_size:]:\n",
    "        os.rename(os.path.join(base_dir, i + '_ok', name), \n",
    "                  os.path.join(base_dir, 'train', i, name))\n",
    "                       \n",
    "                   "
   ]
  },
  {
   "cell_type": "code",
   "execution_count": 8,
   "metadata": {},
   "outputs": [],
   "source": [
    "# теперь хочу из файлов собрать большие массивы и сохранить их в h5\n",
    "\n",
    "train_0 = np.zeros((n_0 - test_size, resize_box, resize_box, 3), dtype=np.uint8)\n",
    "train_1 = np.zeros((n_1 - test_size, resize_box, resize_box, 3), dtype=np.uint8)\n",
    "test_0 = np.zeros((test_size, resize_box, resize_box, 3), dtype=np.uint8)\n",
    "test_1 = np.zeros((test_size, resize_box, resize_box, 3), dtype=np.uint8)\n",
    "\n",
    "arr_count = 0\n",
    "arrs = [train_0, train_1, test_0, test_1]\n",
    "for folder in ['train', 'test']:\n",
    "    for label in ['0', '1']:\n",
    "        i = 0\n",
    "        for file in os.listdir(os.path.join(base_dir, folder, label)):\n",
    "            try:\n",
    "                image = io.imread(os.path.join(base_dir, folder, label, file))\n",
    "                arrs[arr_count][i,:,:,:] = image\n",
    "                i = i + 1\n",
    "            except:\n",
    "                print(os.path.join(base_dir, folder, label, file))\n",
    "        arr_count = arr_count + 1\n"
   ]
  },
  {
   "cell_type": "code",
   "execution_count": 9,
   "metadata": {},
   "outputs": [
    {
     "data": {
      "text/plain": [
       "<matplotlib.image.AxesImage at 0x7f8e848a1ed0>"
      ]
     },
     "execution_count": 9,
     "metadata": {},
     "output_type": "execute_result"
    },
    {
     "data": {
      "image/png": "[encoded data removed]",
      "text/plain": [
       "<Figure size 432x288 with 1 Axes>"
      ]
     },
     "metadata": {
      "needs_background": "light"
     },
     "output_type": "display_data"
    }
   ],
   "source": [
    "io.imshow(train_1[1,:,:,:])"
   ]
  },
  {
   "cell_type": "code",
   "execution_count": 10,
   "metadata": {},
   "outputs": [],
   "source": [
    "with h5py.File('cat-dog-dataset.hdf5', 'w') as f:\n",
    "    d = f.create_dataset('train_0', data=train_0)\n",
    "    d = f.create_dataset('train_1', data=train_1)\n",
    "    d = f.create_dataset('test_0', data=test_0)    \n",
    "    d = f.create_dataset('test_1', data=test_1)    "
   ]
  },
  {
   "cell_type": "code",
   "execution_count": 11,
   "metadata": {},
   "outputs": [],
   "source": [
    "with h5py.File('cat-dog-dataset-small.hdf5', 'w') as f:\n",
    "    d = f.create_dataset('train_0', data=train_0[:500])\n",
    "    d = f.create_dataset('train_1', data=train_1[:500])\n",
    "    d = f.create_dataset('test_0', data=test_0[:100])    \n",
    "    d = f.create_dataset('test_1', data=test_1[:100])    "
   ]
  },
  {
   "cell_type": "code",
   "execution_count": null,
   "metadata": {},
   "outputs": [],
   "source": []
  },
  {
   "cell_type": "code",
   "execution_count": null,
   "metadata": {},
   "outputs": [],
   "source": []
  },
  {
   "cell_type": "code",
   "execution_count": null,
   "metadata": {},
   "outputs": [],
   "source": []
  }
 ],
 "metadata": {
  "kernelspec": {
   "display_name": "Python 3",
   "language": "python",
   "name": "python3"
  },
  "language_info": {
   "codemirror_mode": {
    "name": "ipython",
    "version": 3
   },
   "file_extension": ".py",
   "mimetype": "text/x-python",
   "name": "python",
   "nbconvert_exporter": "python",
   "pygments_lexer": "ipython3",
   "version": "3.7.6"
  }
 },
 "nbformat": 4,
 "nbformat_minor": 4
}
