{
 "cells": [
  {
   "cell_type": "markdown",
   "metadata": {},
   "source": [
    "## тренировка Титаника через Keras и tf.data.Dataset\n",
    "\n",
    "    задача - сделать flow так, чтобы pandas даже не вылезал - предобработку фичей целеком через tf.data\n",
    "    "
   ]
  },
  {
   "cell_type": "code",
   "execution_count": 37,
   "metadata": {},
   "outputs": [],
   "source": [
    "import tensorflow as tf\n",
    "import numpy as np\n",
    "from matplotlib import pyplot as plt\n",
    "\n",
    "%matplotlib inline"
   ]
  },
  {
   "cell_type": "code",
   "execution_count": 38,
   "metadata": {},
   "outputs": [],
   "source": [
    "BATCH_SIZE = 2\n",
    "\n",
    "# столбцы и таргет можно было бы уже и здесть отобрать, но хочу руками поковырять\n",
    "dataset = tf.data.experimental.make_csv_dataset('data/titanic-train.csv', BATCH_SIZE)"
   ]
  },
  {
   "cell_type": "code",
   "execution_count": 39,
   "metadata": {},
   "outputs": [
    {
     "name": "stdout",
     "output_type": "stream",
     "text": [
      "OrderedDict([('PassengerId', <tf.Tensor: shape=(2,), dtype=int32, numpy=array([305, 874], dtype=int32)>), ('Survived', <tf.Tensor: shape=(2,), dtype=int32, numpy=array([0, 0], dtype=int32)>), ('Pclass', <tf.Tensor: shape=(2,), dtype=int32, numpy=array([3, 3], dtype=int32)>), ('Name', <tf.Tensor: shape=(2,), dtype=string, numpy=\n",
      "array([b'Williams, Mr. Howard Hugh \"Harry\"',\n",
      "       b'Vander Cruyssen, Mr. Victor'], dtype=object)>), ('Sex', <tf.Tensor: shape=(2,), dtype=string, numpy=array([b'male', b'male'], dtype=object)>), ('Age', <tf.Tensor: shape=(2,), dtype=float32, numpy=array([ 0., 47.], dtype=float32)>), ('SibSp', <tf.Tensor: shape=(2,), dtype=int32, numpy=array([0, 0], dtype=int32)>), ('Parch', <tf.Tensor: shape=(2,), dtype=int32, numpy=array([0, 0], dtype=int32)>), ('Ticket', <tf.Tensor: shape=(2,), dtype=string, numpy=array([b'A/5 2466', b'345765'], dtype=object)>), ('Fare', <tf.Tensor: shape=(2,), dtype=float32, numpy=array([8.05, 9.  ], dtype=float32)>), ('Cabin', <tf.Tensor: shape=(2,), dtype=string, numpy=array([b'', b''], dtype=object)>), ('Embarked', <tf.Tensor: shape=(2,), dtype=string, numpy=array([b'S', b'S'], dtype=object)>)])\n"
     ]
    }
   ],
   "source": [
    "for batch in dataset.take(1):\n",
    "    print(batch)"
   ]
  },
  {
   "cell_type": "code",
   "execution_count": 40,
   "metadata": {},
   "outputs": [],
   "source": [
    "FEATURE_COLUMNS = ['Age', 'Sex', 'Pclass', 'Fare']\n",
    "TARGET_COLUMN = 'Survived'\n",
    "\n",
    "# 1-й фильтр - отбор столбцов\n",
    "def filter_columns(row_data):\n",
    "    \"\"\"\n",
    "    на входе - 1 батч, на выходе - бач с усеченным набором столбцов и отдельно лейбл\n",
    "    \"\"\"\n",
    "    label = row_data.pop(TARGET_COLUMN)\n",
    "    features = row_data\n",
    "    \n",
    "    # нужно брать именно список - чтобы зафиксировать ключи. иначе будет ругаться\n",
    "    # что ключи поменялись во время итерирования\n",
    "    keys = list(features.keys())\n",
    "    \n",
    "    \n",
    "    for column in keys:\n",
    "        if column not in FEATURE_COLUMNS:\n",
    "            features.pop(column)\n",
    "    return features, label"
   ]
  },
  {
   "cell_type": "code",
   "execution_count": 41,
   "metadata": {},
   "outputs": [
    {
     "name": "stdout",
     "output_type": "stream",
     "text": [
      "OrderedDict([('Pclass', <tf.Tensor: shape=(2,), dtype=int32, numpy=array([3, 3], dtype=int32)>), ('Sex', <tf.Tensor: shape=(2,), dtype=string, numpy=array([b'male', b'male'], dtype=object)>), ('Age', <tf.Tensor: shape=(2,), dtype=float32, numpy=array([0., 0.], dtype=float32)>), ('Fare', <tf.Tensor: shape=(2,), dtype=float32, numpy=array([8.05  , 7.8958], dtype=float32)>)])\n"
     ]
    }
   ],
   "source": [
    "dataset = dataset.map(filter_columns)\n",
    "\n",
    "for features, label in dataset.take(1):\n",
    "    print(features)\n"
   ]
  },
  {
   "cell_type": "code",
   "execution_count": 64,
   "metadata": {},
   "outputs": [],
   "source": [
    "# создаем входной слой. он состоит из функций, которые едят массивы прямо из срезов\n",
    "# (срез - это значения ключа на батче)\n",
    "\n",
    "CATEGORIES = {\n",
    "    'sex': ['male', 'female'],\n",
    "    'class' : [1, 2, 3],\n",
    "}\n",
    "\n",
    "def create_input_layer():\n",
    "    \n",
    "    # считаем что среднее и стд упали откуда-то с неба, сейчас это не суть\n",
    "    age = tf.feature_column.numeric_column('Age', \n",
    "                                        normalizer_fn=lambda x: (x-29.699118)/ 14.526497, \n",
    "                                        shape=[1],\n",
    "                                        default_value=0)\n",
    "    fare = tf.feature_column.numeric_column('Fare', \n",
    "                                        normalizer_fn=lambda x: (x-32.204208)/ 49.693429, \n",
    "                                        shape=[1],\n",
    "                                        default_value=0)\n",
    "    \n",
    "    sex = tf.feature_column.categorical_column_with_vocabulary_list('Sex', CATEGORIES['sex'],default_value=0)\n",
    "    sex = tf.feature_column.indicator_column(sex)\n",
    "\n",
    "    cls = tf.feature_column.categorical_column_with_vocabulary_list('Pclass', CATEGORIES['class'],default_value=0)\n",
    "    cls = tf.feature_column.indicator_column(cls)\n",
    "    \n",
    "    return tf.keras.layers.DenseFeatures((age, fare, sex, cls))"
   ]
  },
  {
   "cell_type": "code",
   "execution_count": 65,
   "metadata": {},
   "outputs": [
    {
     "data": {
      "text/plain": [
       "(<tf.Tensor: shape=(2, 7), dtype=float32, numpy=\n",
       " array([[ 1.2598276 ,  0.14882833,  1.        ,  0.        ,  0.        ,\n",
       "          0.        ,  1.        ],\n",
       "        [-0.04812707, -0.12484968,  0.        ,  1.        ,  0.        ,\n",
       "          0.        ,  1.        ]], dtype=float32)>,\n",
       " <tf.Tensor: shape=(2,), dtype=int32, numpy=array([1, 1], dtype=int32)>)"
      ]
     },
     "execution_count": 65,
     "metadata": {},
     "output_type": "execute_result"
    }
   ],
   "source": [
    "# input_layer - это функция на баче. чтобы проверить, нужно извлечь бач и применить к нему\n",
    "input_layer = create_input_layer()\n",
    "\n",
    "batch, label = next(iter(dataset))\n",
    "input_layer(batch), label"
   ]
  },
  {
   "cell_type": "markdown",
   "metadata": {},
   "source": [
    "## Еще раз все вместе\n",
    "\n",
    "     1. можно создать предобработку прям датасета. т.е на входе батч, на выходе батч\n",
    "     или бач + метки, как угодно. на входе на самом деле одеред дикт \n",
    "     \n",
    "     2. потом можно написать функцию, которая на входе получает ордеред дикт, а потом все \n",
    "     это уплотнить в слой. И получится прекрасный входной слой"
   ]
  },
  {
   "cell_type": "code",
   "execution_count": null,
   "metadata": {},
   "outputs": [],
   "source": []
  }
 ],
 "metadata": {
  "kernelspec": {
   "display_name": "Python 3",
   "language": "python",
   "name": "python3"
  },
  "language_info": {
   "codemirror_mode": {
    "name": "ipython",
    "version": 3
   },
   "file_extension": ".py",
   "mimetype": "text/x-python",
   "name": "python",
   "nbconvert_exporter": "python",
   "pygments_lexer": "ipython3",
   "version": "3.7.6"
  }
 },
 "nbformat": 4,
 "nbformat_minor": 4
}
