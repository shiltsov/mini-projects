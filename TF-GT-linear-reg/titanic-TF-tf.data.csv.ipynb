{
 "cells": [
  {
   "cell_type": "markdown",
   "metadata": {},
   "source": [
    "## тренировка Титаника через Keras и tf.data.Dataset\n",
    "\n",
    "    задача - сделать flow так, чтобы pandas даже не вылезал - предобработку фичей целеком через tf.data\n",
    "    "
   ]
  },
  {
   "cell_type": "code",
   "execution_count": 88,
   "metadata": {},
   "outputs": [],
   "source": [
    "import tensorflow as tf\n",
    "import numpy as np\n",
    "from matplotlib import pyplot as plt\n",
    "from tensorflow.keras.optimizers import RMSprop\n",
    "\n",
    "%matplotlib inline"
   ]
  },
  {
   "cell_type": "code",
   "execution_count": 89,
   "metadata": {},
   "outputs": [],
   "source": [
    "BATCH_SIZE = 16\n",
    "\n",
    "# столбцы и таргет можно было бы уже и здесть отобрать, но хочу руками поковырять\n",
    "dataset = tf.data.experimental.make_csv_dataset('data/titanic-train.csv', BATCH_SIZE)"
   ]
  },
  {
   "cell_type": "code",
   "execution_count": 90,
   "metadata": {},
   "outputs": [
    {
     "name": "stdout",
     "output_type": "stream",
     "text": [
      "OrderedDict([('PassengerId', <tf.Tensor: shape=(16,), dtype=int32, numpy=\n",
      "array([311, 552, 387, 245, 814, 392, 618, 524,  16, 487, 424, 449, 831,\n",
      "       461, 712,   6], dtype=int32)>), ('Survived', <tf.Tensor: shape=(16,), dtype=int32, numpy=array([1, 0, 0, 0, 0, 1, 0, 1, 1, 1, 0, 1, 1, 1, 0, 0], dtype=int32)>), ('Pclass', <tf.Tensor: shape=(16,), dtype=int32, numpy=array([1, 2, 3, 3, 3, 3, 3, 1, 2, 1, 3, 3, 3, 1, 1, 3], dtype=int32)>), ('Name', <tf.Tensor: shape=(16,), dtype=string, numpy=\n",
      "array([b'Hays, Miss. Margaret Bechstein', b'Sharp, Mr. Percival James R',\n",
      "       b'Goodwin, Master. Sidney Leonard', b'Attalah, Mr. Sleiman',\n",
      "       b'Andersson, Miss. Ebba Iris Alfrida', b'Jansson, Mr. Carl Olof',\n",
      "       b'Lobb, Mrs. William Arthur (Cordelia K Stanlick)',\n",
      "       b'Hippach, Mrs. Louis Albert (Ida Sophia Fischer)',\n",
      "       b'Hewlett, Mrs. (Mary D Kingcome) ',\n",
      "       b'Hoyt, Mrs. Frederick Maxfield (Jane Anne Forby)',\n",
      "       b'Danbom, Mrs. Ernst Gilbert (Anna Sigrid Maria Brogren)',\n",
      "       b'Baclini, Miss. Marie Catherine',\n",
      "       b'Yasbeck, Mrs. Antoni (Selini Alexander)', b'Anderson, Mr. Harry',\n",
      "       b'Klaber, Mr. Herman', b'Moran, Mr. James'], dtype=object)>), ('Sex', <tf.Tensor: shape=(16,), dtype=string, numpy=\n",
      "array([b'female', b'male', b'male', b'male', b'female', b'male',\n",
      "       b'female', b'female', b'female', b'female', b'female', b'female',\n",
      "       b'female', b'male', b'male', b'male'], dtype=object)>), ('Age', <tf.Tensor: shape=(16,), dtype=float32, numpy=\n",
      "array([24., 27.,  1., 30.,  6., 21., 26., 44., 55., 35., 28.,  5., 15.,\n",
      "       48.,  0.,  0.], dtype=float32)>), ('SibSp', <tf.Tensor: shape=(16,), dtype=int32, numpy=array([0, 0, 5, 0, 4, 0, 1, 0, 0, 1, 1, 2, 1, 0, 0, 0], dtype=int32)>), ('Parch', <tf.Tensor: shape=(16,), dtype=int32, numpy=array([0, 0, 2, 0, 2, 0, 0, 1, 0, 0, 1, 1, 0, 0, 0, 0], dtype=int32)>), ('Ticket', <tf.Tensor: shape=(16,), dtype=string, numpy=\n",
      "array([b'11767', b'244358', b'CA 2144', b'2694', b'347082', b'350034',\n",
      "       b'A/5. 3336', b'111361', b'248706', b'19943', b'347080', b'2666',\n",
      "       b'2659', b'19952', b'113028', b'330877'], dtype=object)>), ('Fare', <tf.Tensor: shape=(16,), dtype=float32, numpy=\n",
      "array([83.1583, 26.    , 46.9   ,  7.225 , 31.275 ,  7.7958, 16.1   ,\n",
      "       57.9792, 16.    , 90.    , 14.4   , 19.2583, 14.4542, 26.55  ,\n",
      "       26.55  ,  8.4583], dtype=float32)>), ('Cabin', <tf.Tensor: shape=(16,), dtype=string, numpy=\n",
      "array([b'C54', b'', b'', b'', b'', b'', b'', b'B18', b'', b'C93', b'',\n",
      "       b'', b'', b'E12', b'C124', b''], dtype=object)>), ('Embarked', <tf.Tensor: shape=(16,), dtype=string, numpy=\n",
      "array([b'C', b'S', b'S', b'C', b'S', b'S', b'S', b'C', b'S', b'S', b'S',\n",
      "       b'C', b'C', b'S', b'S', b'Q'], dtype=object)>)])\n"
     ]
    }
   ],
   "source": [
    "for batch in dataset.take(1):\n",
    "    print(batch)"
   ]
  },
  {
   "cell_type": "code",
   "execution_count": 91,
   "metadata": {},
   "outputs": [],
   "source": [
    "FEATURE_COLUMNS = ['Age', 'Sex', 'Pclass', 'Fare']\n",
    "TARGET_COLUMN = 'Survived'\n",
    "\n",
    "# 1-й фильтр - отбор столбцов\n",
    "def filter_columns(row_data):\n",
    "    \"\"\"\n",
    "    на входе - 1 батч, на выходе - бач с усеченным набором столбцов и отдельно лейбл\n",
    "    \"\"\"\n",
    "    label = row_data.pop(TARGET_COLUMN)\n",
    "    features = row_data\n",
    "    \n",
    "    # нужно брать именно список - чтобы зафиксировать ключи. иначе будет ругаться\n",
    "    # что ключи поменялись во время итерирования\n",
    "    keys = list(features.keys())\n",
    "    \n",
    "    \n",
    "    for column in keys:\n",
    "        if column not in FEATURE_COLUMNS:\n",
    "            features.pop(column)\n",
    "    return features, label"
   ]
  },
  {
   "cell_type": "code",
   "execution_count": 92,
   "metadata": {},
   "outputs": [
    {
     "name": "stdout",
     "output_type": "stream",
     "text": [
      "OrderedDict([('Pclass', <tf.Tensor: shape=(16,), dtype=int32, numpy=array([3, 3, 1, 3, 3, 3, 3, 3, 1, 3, 2, 2, 2, 1, 3, 3], dtype=int32)>), ('Sex', <tf.Tensor: shape=(16,), dtype=string, numpy=\n",
      "array([b'female', b'male', b'male', b'female', b'female', b'male',\n",
      "       b'male', b'male', b'male', b'female', b'female', b'male', b'male',\n",
      "       b'female', b'male', b'female'], dtype=object)>), ('Age', <tf.Tensor: shape=(16,), dtype=float32, numpy=\n",
      "array([31.  ,  0.  , 40.  , 28.  ,  0.  , 25.  , 29.  , 22.  ,  0.92,\n",
      "       16.  , 32.  ,  0.83,  0.  , 30.  , 26.  , 22.  ], dtype=float32)>), ('Fare', <tf.Tensor: shape=(16,), dtype=float32, numpy=\n",
      "array([  7.8542,   7.3125,  27.7208,   7.8958,   7.225 ,  17.8   ,\n",
      "         7.0458,   8.05  , 151.55  ,   7.7333,  13.    ,  29.    ,\n",
      "         0.    ,  93.5   ,  14.4542,   7.75  ], dtype=float32)>)])\n"
     ]
    }
   ],
   "source": [
    "dataset = dataset.map(filter_columns)\n",
    "\n",
    "for features, label in dataset.take(1):\n",
    "    print(features)\n"
   ]
  },
  {
   "cell_type": "code",
   "execution_count": 93,
   "metadata": {},
   "outputs": [],
   "source": [
    "# Можно его еще закешить для ускорения, зашаффлить и задать сколько раз его крутить на эпоху"
   ]
  },
  {
   "cell_type": "code",
   "execution_count": 94,
   "metadata": {},
   "outputs": [],
   "source": [
    "def mix_preparation(dataset):\n",
    "    return dataset.shuffle(100).repeat(3).cache()\n",
    "\n",
    "dataset = mix_preparation(dataset)"
   ]
  },
  {
   "cell_type": "code",
   "execution_count": 99,
   "metadata": {},
   "outputs": [],
   "source": [
    "# создаем входной слой. он состоит из функций, которые едят массивы прямо из срезов\n",
    "# (срез - это значения ключа на батче)\n",
    "\n",
    "CATEGORIES = {\n",
    "    'sex': ['male', 'female'],\n",
    "    'class' : [1, 2, 3],\n",
    "}\n",
    "\n",
    "def create_input_layer():\n",
    "    \n",
    "    # считаем что среднее и стд упали откуда-то с неба, сейчас это не суть\n",
    "    age = tf.feature_column.numeric_column('Age', \n",
    "                                        normalizer_fn=lambda x: (x-29.699118)/ 14.526497, \n",
    "                                        shape=[1],\n",
    "                                        default_value=0)\n",
    "    fare = tf.feature_column.numeric_column('Fare', \n",
    "                                        normalizer_fn=lambda x: (x-32.204208)/ 49.693429, \n",
    "                                        shape=[1],\n",
    "                                        default_value=0)\n",
    "    \n",
    "    sex = tf.feature_column.categorical_column_with_vocabulary_list('Sex', CATEGORIES['sex'],default_value=0)\n",
    "    sex = tf.feature_column.indicator_column(sex)\n",
    "\n",
    "    cls = tf.feature_column.categorical_column_with_vocabulary_list('Pclass', CATEGORIES['class'],default_value=0)\n",
    "    cls = tf.feature_column.indicator_column(cls)\n",
    "    \n",
    "    return tf.keras.layers.DenseFeatures([age, fare, sex, cls])"
   ]
  },
  {
   "cell_type": "code",
   "execution_count": 100,
   "metadata": {},
   "outputs": [
    {
     "data": {
      "text/plain": [
       "(<tf.Tensor: shape=(16, 7), dtype=float32, numpy=\n",
       " array([[-0.4611654 , -0.3864537 ,  0.        ,  1.        ,  0.        ,\n",
       "          1.        ,  0.        ],\n",
       "        [ 0.36491126,  1.0317419 ,  1.        ,  0.        ,  0.        ,\n",
       "          0.        ,  1.        ],\n",
       "        [-0.32348594,  2.4016414 ,  1.        ,  0.        ,  0.        ,\n",
       "          0.        ,  1.        ],\n",
       "        [ 2.2235837 , -0.11378183,  1.        ,  0.        ,  0.        ,\n",
       "          1.        ,  0.        ],\n",
       "        [ 0.02071266, -0.3864537 ,  0.        ,  1.        ,  0.        ,\n",
       "          1.        ,  0.        ],\n",
       "        [ 1.190988  , -0.46694723,  0.        ,  0.        ,  1.        ,\n",
       "          1.        ,  0.        ],\n",
       "        [ 0.1583921 , -0.03429444,  1.        ,  0.        ,  0.        ,\n",
       "          1.        ,  0.        ],\n",
       "        [ 0.70910984,  2.0585377 ,  1.        ,  0.        ,  0.        ,\n",
       "          0.        ,  1.        ],\n",
       "        [-0.5988448 , -0.49243754,  0.        ,  0.        ,  1.        ,\n",
       "          1.        ,  0.        ],\n",
       "        [ 0.433751  , -0.33513907,  0.        ,  0.        ,  1.        ,\n",
       "          1.        ,  0.        ],\n",
       "        [-0.25464624, -0.23401903,  0.        ,  0.        ,  1.        ,\n",
       "          1.        ,  0.        ],\n",
       "        [-0.4611654 , -0.3864537 ,  0.        ,  1.        ,  0.        ,\n",
       "          1.        ,  0.        ],\n",
       "        [-2.044479  , -0.51004547,  0.        ,  0.        ,  1.        ,\n",
       "          1.        ,  0.        ],\n",
       "        [ 0.70910984, -0.6480577 ,  1.        ,  0.        ,  0.        ,\n",
       "          1.        ,  0.        ],\n",
       "        [ 2.4989426 , -0.43676215,  0.        ,  1.        ,  0.        ,\n",
       "          1.        ,  0.        ],\n",
       "        [-2.044479  ,  1.005497  ,  1.        ,  0.        ,  0.        ,\n",
       "          0.        ,  1.        ]], dtype=float32)>,\n",
       " <tf.Tensor: shape=(16,), dtype=int32, numpy=array([0, 1, 0, 0, 0, 0, 1, 1, 0, 0, 0, 0, 0, 0, 0, 1], dtype=int32)>)"
      ]
     },
     "execution_count": 100,
     "metadata": {},
     "output_type": "execute_result"
    }
   ],
   "source": [
    "# input_layer - это функция на баче. чтобы проверить, нужно извлечь бач и применить к нему\n",
    "input_layer = create_input_layer()\n",
    "\n",
    "batch, label = next(iter(dataset))\n",
    "input_layer(batch), label"
   ]
  },
  {
   "cell_type": "markdown",
   "metadata": {},
   "source": [
    "## Еще раз все вместе\n",
    "\n",
    "     1. можно создать предобработку прям датасета. т.е на входе батч, на выходе батч\n",
    "     или бач + метки, как угодно. на входе на самом деле одеред дикт \n",
    "     \n",
    "     2. потом можно написать функцию, которая на входе получает ордеред дикт, а потом все \n",
    "     это уплотнить в слой. И получится прекрасный входной слой"
   ]
  },
  {
   "cell_type": "code",
   "execution_count": 101,
   "metadata": {},
   "outputs": [
    {
     "name": "stdout",
     "output_type": "stream",
     "text": [
      "Epoch 1/5\n",
      "5000/5000 [==============================] - 39s 8ms/step - loss: 0.4151 - accuracy: 0.8189\n",
      "Epoch 2/5\n",
      "5000/5000 [==============================] - 39s 8ms/step - loss: 0.3780 - accuracy: 0.8379\n",
      "Epoch 3/5\n",
      "5000/5000 [==============================] - 39s 8ms/step - loss: 0.3590 - accuracy: 0.8461\n",
      "Epoch 4/5\n",
      "5000/5000 [==============================] - 52s 10ms/step - loss: 0.3463 - accuracy: 0.8540\n",
      "Epoch 5/5\n",
      "5000/5000 [==============================] - 35s 7ms/step - loss: 0.3367 - accuracy: 0.8598\n"
     ]
    }
   ],
   "source": [
    "model = tf.keras.models.Sequential([\n",
    "    input_layer,\n",
    "    tf.keras.layers.Dense(32, activation='relu'), \n",
    "    tf.keras.layers.Dense(32, activation='relu'),\n",
    "    tf.keras.layers.Dense(32, activation='relu'),\n",
    "    tf.keras.layers.Dense(1, activation='sigmoid')\n",
    "])\n",
    "\n",
    "model.compile(loss='binary_crossentropy',\n",
    "              optimizer=RMSprop(lr = 0.001),\n",
    "              metrics = ['accuracy'])\n",
    "\n",
    "history = model.fit(dataset, epochs=5,steps_per_epoch=5000)"
   ]
  },
  {
   "cell_type": "code",
   "execution_count": null,
   "metadata": {},
   "outputs": [],
   "source": []
  }
 ],
 "metadata": {
  "kernelspec": {
   "display_name": "Python 3",
   "language": "python",
   "name": "python3"
  },
  "language_info": {
   "codemirror_mode": {
    "name": "ipython",
    "version": 3
   },
   "file_extension": ".py",
   "mimetype": "text/x-python",
   "name": "python",
   "nbconvert_exporter": "python",
   "pygments_lexer": "ipython3",
   "version": "3.7.6"
  }
 },
 "nbformat": 4,
 "nbformat_minor": 4
}
